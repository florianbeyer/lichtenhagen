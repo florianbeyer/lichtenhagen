{
 "cells": [
  {
   "cell_type": "markdown",
   "metadata": {},
   "source": [
    "# Regression Script LOO CV\n",
    "## Partial Least Squares Regression\n",
    "\n",
    "### Florian Beyer\n",
    "### 2020-08-05\n",
    "### V0.2\n",
    "\n",
    "Quellen: \n",
    "- https://nirpyresearch.com/partial-least-squares-regression-python/\n",
    "variable importance: https://github.com/scikit-learn/scikit-learn/issues/7050"
   ]
  },
  {
   "cell_type": "code",
   "execution_count": 71,
   "metadata": {},
   "outputs": [],
   "source": [
    "# Requried Packages\n",
    "from osgeo import gdal, ogr, gdal_array # I/O image data\n",
    "import numpy as np # math and array handling\n",
    "import matplotlib.pyplot as plt # plot figures\n",
    "import pandas as pd # handling large data as table sheets\n",
    "from joblib import dump, load\n",
    "from operator import itemgetter\n",
    "\n",
    "from sklearn.cross_decomposition import PLSRegression\n",
    "from sklearn.metrics import mean_squared_error, r2_score\n",
    "from sklearn.model_selection import cross_val_predict\n",
    "\n",
    "import datetime\n",
    "\n",
    "import seaborn as sns\n",
    "\n",
    "# Tell GDAL to throw Python exceptions, and register all drivers\n",
    "gdal.UseExceptions()\n",
    "gdal.AllRegister()\n",
    "\n",
    "settings_sns = {'axes.facecolor': 'white',\n",
    "                'axes.edgecolor': '0',\n",
    "                'axes.grid': True,\n",
    "                'axes.axisbelow': True,\n",
    "                'axes.labelcolor': '.15',\n",
    "                'figure.facecolor': 'white',\n",
    "                'grid.color': '.8',\n",
    "                'grid.linestyle': '--',\n",
    "                'text.color': '0',\n",
    "                'xtick.color': '0',\n",
    "                'ytick.color': '0',\n",
    "                'xtick.direction': 'in',\n",
    "                'ytick.direction': 'in',\n",
    "                'lines.solid_capstyle': 'round',\n",
    "                'patch.edgecolor': 'w', \n",
    "                'patch.force_edgecolor': True,\n",
    "                'image.cmap': 'Greys',\n",
    "                'font.family': ['serif'],\n",
    "                'font.sans-serif': ['Arial', 'Liberation Sans', 'DejaVu Sans', 'Bitstream Vera Sans', 'sans-serif'],\n",
    "                'xtick.bottom': True,\n",
    "                'xtick.top': True,\n",
    "                'ytick.left': True,\n",
    "                'ytick.right': True,\n",
    "                'axes.spines.left': True,\n",
    "                'axes.spines.bottom': True,\n",
    "                'axes.spines.right': True,\n",
    "                'axes.spines.top': True}"
   ]
  },
  {
   "cell_type": "code",
   "execution_count": 72,
   "metadata": {},
   "outputs": [],
   "source": [
    "# data input\n",
    "\n",
    "# the remote sensing image you want to classify\n",
    "img_RS1 = 'N:/Projekt_Wetscapes/Bearbeitung/2020_11_24_Lichtehagen/raster/005_stacks/2019_LH_pre_stack_24bands.tif'\n",
    "img_RS2 = 'N:/Projekt_Wetscapes/Bearbeitung/2020_11_24_Lichtehagen/raster/005_stacks/2019_LH_post_stack_24bands.tif'\n",
    "\n",
    "# training and validation\n",
    "#    as image in the same extand as your remote sensing image\n",
    "#    no data pixels = 0 or negative\n",
    "#    class pixels > 0 and as integer\n",
    "field1 = 'N:/Projekt_Wetscapes/Bearbeitung/2020_11_24_Lichtehagen/vector/2020_Felddaten.shp'\n",
    "field2 = 'N:/Projekt_Wetscapes/Bearbeitung/2020_11_24_Lichtehagen/vector/2019_Felddaten.shp'\n",
    "\n",
    "\n",
    "# what is the attributes name of your classes in the shape file (field name of the classes)?\n",
    "attribute = 'FM'\n",
    "\n",
    "results_path = 'N:/Projekt_Wetscapes/Bearbeitung/2020_11_24_Lichtehagen/results/fusion/'\n",
    "name = 'LH_fusion_2019_2020_'\n",
    "\n",
    "# save path, predicted image\n",
    "prediction_map = results_path + name + attribute +'.tif'\n",
    "\n",
    "comp_plot = results_path + name + attribute+'_components.pdf'\n",
    "\n",
    "validation_plot = results_path + name + attribute+'_regressionplot.pdf'\n",
    "\n",
    "results_txt = results_path + name + attribute+'.txt'\n",
    "\n",
    "# save path, trained model\n",
    "#save_model = 'D:\\\\OwnCloud\\\\WetScapes\\\\2020_02_21_Regression_Biomass\\\\Results\\\\PLSR_model.joblib'\n"
   ]
  },
  {
   "cell_type": "code",
   "execution_count": 73,
   "metadata": {},
   "outputs": [
    {
     "name": "stdout",
     "output_type": "stream",
     "text": [
      "Available attributes in the shape file are: ['Name', 'X', 'Y', 'Z', 'FM', 'TM', 'P', 'field_8']\n"
     ]
    }
   ],
   "source": [
    "# laod training data and show all shape attributes\n",
    "\n",
    "#model_dataset = gdal.Open(model_raster_fname)\n",
    "shape_dataset = ogr.Open(field1)\n",
    "shape_layer = shape_dataset.GetLayer()\n",
    "\n",
    "# extract the names of all attributes (fieldnames) in the shape file\n",
    "attributes = []\n",
    "ldefn = shape_layer.GetLayerDefn()\n",
    "for n in range(ldefn.GetFieldCount()):\n",
    "    fdefn = ldefn.GetFieldDefn(n)\n",
    "    attributes.append(fdefn.name)\n",
    "    \n",
    "# print the attributes\n",
    "print('Available attributes in the shape file are: {}'.format(attributes))"
   ]
  },
  {
   "cell_type": "code",
   "execution_count": 74,
   "metadata": {},
   "outputs": [],
   "source": [
    "# Data preparation\n",
    "\n",
    "# load image data\n",
    "\n",
    "img_ds1 = gdal.Open(img_RS1, gdal.GA_ReadOnly)\n",
    "img_ds2 = gdal.Open(img_RS2, gdal.GA_ReadOnly)\n",
    "\n",
    "img1 = np.zeros((img_ds1.RasterYSize, img_ds1.RasterXSize, img_ds1.RasterCount),\n",
    "               gdal_array.GDALTypeCodeToNumericTypeCode(img_ds1.GetRasterBand(1).DataType))\n",
    "for b in range(img1.shape[2]):\n",
    "    img1[:, :, b] = img_ds1.GetRasterBand(b + 1).ReadAsArray()\n",
    "    \n",
    "img2 = np.zeros((img_ds2.RasterYSize, img_ds2.RasterXSize, img_ds2.RasterCount),\n",
    "               gdal_array.GDALTypeCodeToNumericTypeCode(img_ds2.GetRasterBand(1).DataType))\n",
    "for b in range(img2.shape[2]):\n",
    "    img2[:, :, b] = img_ds2.GetRasterBand(b + 1).ReadAsArray()"
   ]
  },
  {
   "cell_type": "code",
   "execution_count": 75,
   "metadata": {},
   "outputs": [
    {
     "name": "stdout",
     "output_type": "stream",
     "text": [
      "Image extent: 916 x 166 (row x col)\n",
      "Number of Bands: 24\n",
      "Image extent: 917 x 166 (row x col)\n",
      "Number of Bands: 24\n"
     ]
    }
   ],
   "source": [
    "row1 = img_ds1.RasterYSize\n",
    "col1 = img_ds1.RasterXSize\n",
    "band_number1 = img_ds1.RasterCount\n",
    "\n",
    "row2 = img_ds2.RasterYSize\n",
    "col2 = img_ds2.RasterXSize\n",
    "band_number2 = img_ds2.RasterCount\n",
    "\n",
    "\n",
    "print('Image extent: {} x {} (row x col)'.format(row1, col1))\n",
    "print('Number of Bands: {}'.format(band_number1))\n",
    "\n",
    "print('Image extent: {} x {} (row x col)'.format(row2, col2))\n",
    "print('Number of Bands: {}'.format(band_number2))\n",
    "\n"
   ]
  },
  {
   "cell_type": "code",
   "execution_count": 76,
   "metadata": {},
   "outputs": [],
   "source": [
    "\n",
    "#model_dataset = gdal.Open(model_raster_fname)\n",
    "shape_dataset = ogr.Open(field1)\n",
    "shape_layer = shape_dataset.GetLayer()\n",
    "mem_drv = gdal.GetDriverByName('MEM')\n",
    "mem_raster = mem_drv.Create('',img_ds1.RasterXSize,img_ds1.RasterYSize,1,gdal.GDT_Float32)\n",
    "mem_raster.SetProjection(img_ds1.GetProjection())\n",
    "mem_raster.SetGeoTransform(img_ds1.GetGeoTransform())\n",
    "mem_band = mem_raster.GetRasterBand(1)\n",
    "mem_band.Fill(0)\n",
    "mem_band.SetNoDataValue(0)\n",
    "\n",
    "att_ = 'ATTRIBUTE='+attribute\n",
    "# http://gdal.org/gdal__alg_8h.html#adfe5e5d287d6c184aab03acbfa567cb1\n",
    "# http://gis.stackexchange.com/questions/31568/gdal-rasterizelayer-doesnt-burn-all-polygons-to-raster\n",
    "err = gdal.RasterizeLayer(mem_raster, [1], shape_layer, None, None, [1],  [att_,\"ALL_TOUCHED=TRUE\"])\n",
    "assert err == gdal.CE_None\n",
    "\n",
    "roi1 = mem_raster.ReadAsArray()\n"
   ]
  },
  {
   "cell_type": "code",
   "execution_count": 77,
   "metadata": {},
   "outputs": [],
   "source": [
    "\n",
    "#model_dataset = gdal.Open(model_raster_fname)\n",
    "shape_dataset = ogr.Open(field2)\n",
    "shape_layer = shape_dataset.GetLayer()\n",
    "mem_drv = gdal.GetDriverByName('MEM')\n",
    "mem_raster = mem_drv.Create('',img_ds2.RasterXSize,img_ds2.RasterYSize,1,gdal.GDT_Float32)\n",
    "mem_raster.SetProjection(img_ds2.GetProjection())\n",
    "mem_raster.SetGeoTransform(img_ds2.GetGeoTransform())\n",
    "mem_band = mem_raster.GetRasterBand(1)\n",
    "mem_band.Fill(0)\n",
    "mem_band.SetNoDataValue(0)\n",
    "\n",
    "att_ = 'ATTRIBUTE='+attribute\n",
    "# http://gdal.org/gdal__alg_8h.html#adfe5e5d287d6c184aab03acbfa567cb1\n",
    "# http://gis.stackexchange.com/questions/31568/gdal-rasterizelayer-doesnt-burn-all-polygons-to-raster\n",
    "err = gdal.RasterizeLayer(mem_raster, [1], shape_layer, None, None, [1],  [att_,\"ALL_TOUCHED=TRUE\"])\n",
    "assert err == gdal.CE_None\n",
    "\n",
    "roi2 = mem_raster.ReadAsArray()\n"
   ]
  },
  {
   "cell_type": "code",
   "execution_count": 78,
   "metadata": {},
   "outputs": [
    {
     "data": {
      "image/png": "[encoded data removed]",
      "text/plain": [
       "<Figure size 432x288 with 1 Axes>"
      ]
     },
     "metadata": {
      "needs_background": "light"
     },
     "output_type": "display_data"
    }
   ],
   "source": [
    "# Display image and Training data\n",
    "\n",
    "plt.imshow(img1[:, :, 0], cmap=plt.cm.Greys_r)\n",
    "roi_positions = np.where(roi1 > 0)\n",
    "plt.scatter(roi_positions[1], roi_positions[0], marker='x', c='r' )\n",
    "plt.title('first RS band and sample points')\n",
    "\n",
    "\n",
    "plt.show()\n"
   ]
  },
  {
   "cell_type": "code",
   "execution_count": 79,
   "metadata": {},
   "outputs": [
    {
     "data": {
      "image/png": "[encoded data removed]",
      "text/plain": [
       "<Figure size 432x288 with 1 Axes>"
      ]
     },
     "metadata": {
      "needs_background": "light"
     },
     "output_type": "display_data"
    }
   ],
   "source": [
    "# Display image and Training data\n",
    "\n",
    "plt.imshow(img2[:, :, 0], cmap=plt.cm.Greys_r)\n",
    "roi_positions = np.where(roi2 > 0)\n",
    "plt.scatter(roi_positions[1], roi_positions[0], marker='x', c='r' )\n",
    "plt.title('first RS band and sample points')\n",
    "\n",
    "\n",
    "plt.show()\n"
   ]
  },
  {
   "cell_type": "code",
   "execution_count": 80,
   "metadata": {},
   "outputs": [
    {
     "name": "stdout",
     "output_type": "stream",
     "text": [
      "We have 50 training samples\n",
      "We have 25 training samples\n"
     ]
    }
   ],
   "source": [
    "# Number of training pixels:\n",
    "n_samples1 = (roi1 > 0).sum()\n",
    "print('We have {n} training samples'.format(n=n_samples1))# Subset the image dataset with the training image = X\n",
    "\n",
    "n_samples2 = (roi2 > 0).sum()\n",
    "print('We have {n} training samples'.format(n=n_samples2))# Subset the image dataset with the training image = X\n",
    "\n"
   ]
  },
  {
   "cell_type": "code",
   "execution_count": 81,
   "metadata": {},
   "outputs": [],
   "source": [
    "# Mask the classes on the training dataset = y\n",
    "# These will have n_samples rows\n",
    "X1 = img1[roi1 > 0, :]\n",
    "y1 = roi1[roi1 > 0]\n",
    "X2 = img2[roi2 > 0, :]\n",
    "y2 = roi2[roi2 > 0]"
   ]
  },
  {
   "cell_type": "code",
   "execution_count": 82,
   "metadata": {},
   "outputs": [
    {
     "name": "stdout",
     "output_type": "stream",
     "text": [
      "The shape of our features is: (50, 24)\n",
      "The number of Spectra is: 50\n",
      "The number of bands is: 24\n"
     ]
    },
    {
     "data": {
      "text/html": [
       "<div>\n",
       "<style scoped>\n",
       "    .dataframe tbody tr th:only-of-type {\n",
       "        vertical-align: middle;\n",
       "    }\n",
       "\n",
       "    .dataframe tbody tr th {\n",
       "        vertical-align: top;\n",
       "    }\n",
       "\n",
       "    .dataframe thead th {\n",
       "        text-align: right;\n",
       "    }\n",
       "</style>\n",
       "<table border=\"1\" class=\"dataframe\">\n",
       "  <thead>\n",
       "    <tr style=\"text-align: right;\">\n",
       "      <th></th>\n",
       "      <th>Band_1</th>\n",
       "      <th>Band_2</th>\n",
       "      <th>Band_3</th>\n",
       "      <th>Band_4</th>\n",
       "      <th>Band_5</th>\n",
       "      <th>Band_6</th>\n",
       "      <th>Band_7</th>\n",
       "      <th>Band_8</th>\n",
       "      <th>Band_9</th>\n",
       "      <th>Band_10</th>\n",
       "      <th>...</th>\n",
       "      <th>Band_16</th>\n",
       "      <th>Band_17</th>\n",
       "      <th>Band_18</th>\n",
       "      <th>Band_19</th>\n",
       "      <th>Band_20</th>\n",
       "      <th>Band_21</th>\n",
       "      <th>Band_22</th>\n",
       "      <th>Band_23</th>\n",
       "      <th>Band_24</th>\n",
       "      <th>value</th>\n",
       "    </tr>\n",
       "  </thead>\n",
       "  <tbody>\n",
       "    <tr>\n",
       "      <th>0</th>\n",
       "      <td>90.0</td>\n",
       "      <td>98.0</td>\n",
       "      <td>60.0</td>\n",
       "      <td>0.082949</td>\n",
       "      <td>0.050612</td>\n",
       "      <td>0.264851</td>\n",
       "      <td>0.365947</td>\n",
       "      <td>4.384323</td>\n",
       "      <td>22.625933</td>\n",
       "      <td>0.211712</td>\n",
       "      <td>...</td>\n",
       "      <td>0.160266</td>\n",
       "      <td>0.756999</td>\n",
       "      <td>-0.047784</td>\n",
       "      <td>0.071584</td>\n",
       "      <td>0.062500</td>\n",
       "      <td>27.0</td>\n",
       "      <td>73.246162</td>\n",
       "      <td>5.015625</td>\n",
       "      <td>203.604965</td>\n",
       "      <td>229.649994</td>\n",
       "    </tr>\n",
       "    <tr>\n",
       "      <th>1</th>\n",
       "      <td>113.0</td>\n",
       "      <td>100.0</td>\n",
       "      <td>61.0</td>\n",
       "      <td>0.057574</td>\n",
       "      <td>0.071698</td>\n",
       "      <td>0.148178</td>\n",
       "      <td>0.181828</td>\n",
       "      <td>4.877329</td>\n",
       "      <td>58.409283</td>\n",
       "      <td>0.234739</td>\n",
       "      <td>...</td>\n",
       "      <td>0.101969</td>\n",
       "      <td>0.434391</td>\n",
       "      <td>-0.017265</td>\n",
       "      <td>0.117088</td>\n",
       "      <td>-0.085526</td>\n",
       "      <td>110.0</td>\n",
       "      <td>78.351768</td>\n",
       "      <td>4.921875</td>\n",
       "      <td>226.990326</td>\n",
       "      <td>36.400002</td>\n",
       "    </tr>\n",
       "    <tr>\n",
       "      <th>2</th>\n",
       "      <td>60.0</td>\n",
       "      <td>68.0</td>\n",
       "      <td>39.0</td>\n",
       "      <td>0.046600</td>\n",
       "      <td>0.043273</td>\n",
       "      <td>0.168104</td>\n",
       "      <td>0.213466</td>\n",
       "      <td>4.597144</td>\n",
       "      <td>72.661110</td>\n",
       "      <td>0.179334</td>\n",
       "      <td>...</td>\n",
       "      <td>0.118881</td>\n",
       "      <td>0.662901</td>\n",
       "      <td>-0.019348</td>\n",
       "      <td>0.091287</td>\n",
       "      <td>0.089888</td>\n",
       "      <td>13.0</td>\n",
       "      <td>100.453972</td>\n",
       "      <td>3.656250</td>\n",
       "      <td>198.369446</td>\n",
       "      <td>297.679993</td>\n",
       "    </tr>\n",
       "    <tr>\n",
       "      <th>3</th>\n",
       "      <td>102.0</td>\n",
       "      <td>97.0</td>\n",
       "      <td>57.0</td>\n",
       "      <td>0.063913</td>\n",
       "      <td>0.055820</td>\n",
       "      <td>0.175657</td>\n",
       "      <td>0.248511</td>\n",
       "      <td>4.994516</td>\n",
       "      <td>40.052219</td>\n",
       "      <td>0.271267</td>\n",
       "      <td>...</td>\n",
       "      <td>0.171756</td>\n",
       "      <td>0.633162</td>\n",
       "      <td>-0.030406</td>\n",
       "      <td>0.148526</td>\n",
       "      <td>-0.035211</td>\n",
       "      <td>22.0</td>\n",
       "      <td>72.006943</td>\n",
       "      <td>4.828125</td>\n",
       "      <td>185.129974</td>\n",
       "      <td>150.949997</td>\n",
       "    </tr>\n",
       "    <tr>\n",
       "      <th>4</th>\n",
       "      <td>112.0</td>\n",
       "      <td>103.0</td>\n",
       "      <td>66.0</td>\n",
       "      <td>0.063320</td>\n",
       "      <td>0.055141</td>\n",
       "      <td>0.161841</td>\n",
       "      <td>0.220738</td>\n",
       "      <td>4.796968</td>\n",
       "      <td>43.553509</td>\n",
       "      <td>0.256472</td>\n",
       "      <td>...</td>\n",
       "      <td>0.153948</td>\n",
       "      <td>0.600255</td>\n",
       "      <td>-0.030075</td>\n",
       "      <td>0.146602</td>\n",
       "      <td>-0.060403</td>\n",
       "      <td>17.0</td>\n",
       "      <td>95.420120</td>\n",
       "      <td>5.328125</td>\n",
       "      <td>280.905884</td>\n",
       "      <td>98.050003</td>\n",
       "    </tr>\n",
       "  </tbody>\n",
       "</table>\n",
       "<p>5 rows × 25 columns</p>\n",
       "</div>"
      ],
      "text/plain": [
       "   Band_1  Band_2  Band_3    Band_4    Band_5    Band_6    Band_7    Band_8  \\\n",
       "0    90.0    98.0    60.0  0.082949  0.050612  0.264851  0.365947  4.384323   \n",
       "1   113.0   100.0    61.0  0.057574  0.071698  0.148178  0.181828  4.877329   \n",
       "2    60.0    68.0    39.0  0.046600  0.043273  0.168104  0.213466  4.597144   \n",
       "3   102.0    97.0    57.0  0.063913  0.055820  0.175657  0.248511  4.994516   \n",
       "4   112.0   103.0    66.0  0.063320  0.055141  0.161841  0.220738  4.796968   \n",
       "\n",
       "      Band_9   Band_10  ...   Band_16   Band_17   Band_18   Band_19   Band_20  \\\n",
       "0  22.625933  0.211712  ...  0.160266  0.756999 -0.047784  0.071584  0.062500   \n",
       "1  58.409283  0.234739  ...  0.101969  0.434391 -0.017265  0.117088 -0.085526   \n",
       "2  72.661110  0.179334  ...  0.118881  0.662901 -0.019348  0.091287  0.089888   \n",
       "3  40.052219  0.271267  ...  0.171756  0.633162 -0.030406  0.148526 -0.035211   \n",
       "4  43.553509  0.256472  ...  0.153948  0.600255 -0.030075  0.146602 -0.060403   \n",
       "\n",
       "   Band_21     Band_22   Band_23     Band_24       value  \n",
       "0     27.0   73.246162  5.015625  203.604965  229.649994  \n",
       "1    110.0   78.351768  4.921875  226.990326   36.400002  \n",
       "2     13.0  100.453972  3.656250  198.369446  297.679993  \n",
       "3     22.0   72.006943  4.828125  185.129974  150.949997  \n",
       "4     17.0   95.420120  5.328125  280.905884   98.050003  \n",
       "\n",
       "[5 rows x 25 columns]"
      ]
     },
     "execution_count": 82,
     "metadata": {},
     "output_type": "execute_result"
    }
   ],
   "source": [
    "features1 = pd.DataFrame(X1)\n",
    "\n",
    "band_names1 = []\n",
    "for i in range(X1.shape[1]):\n",
    "#for i in range(0,2500):\n",
    "    nband = \"Band_\"+ str(i+1)\n",
    "    band_names1.append(nband)\n",
    "\n",
    "features1.columns = band_names1\n",
    "\n",
    "print('The shape of our features is:', features1.shape)\n",
    "print('The number of Spectra is:', features1.shape[0])\n",
    "print('The number of bands is:', features1.shape[1])\n",
    "\n",
    "features1['value'] = y1\n",
    "\n",
    "features1.head()\n"
   ]
  },
  {
   "cell_type": "code",
   "execution_count": 83,
   "metadata": {},
   "outputs": [
    {
     "name": "stdout",
     "output_type": "stream",
     "text": [
      "The shape of our features is: (25, 24)\n",
      "The number of Spectra is: 25\n",
      "The number of bands is: 24\n"
     ]
    },
    {
     "data": {
      "text/html": [
       "<div>\n",
       "<style scoped>\n",
       "    .dataframe tbody tr th:only-of-type {\n",
       "        vertical-align: middle;\n",
       "    }\n",
       "\n",
       "    .dataframe tbody tr th {\n",
       "        vertical-align: top;\n",
       "    }\n",
       "\n",
       "    .dataframe thead th {\n",
       "        text-align: right;\n",
       "    }\n",
       "</style>\n",
       "<table border=\"1\" class=\"dataframe\">\n",
       "  <thead>\n",
       "    <tr style=\"text-align: right;\">\n",
       "      <th></th>\n",
       "      <th>Band_1</th>\n",
       "      <th>Band_2</th>\n",
       "      <th>Band_3</th>\n",
       "      <th>Band_4</th>\n",
       "      <th>Band_5</th>\n",
       "      <th>Band_6</th>\n",
       "      <th>Band_7</th>\n",
       "      <th>Band_8</th>\n",
       "      <th>Band_9</th>\n",
       "      <th>Band_10</th>\n",
       "      <th>...</th>\n",
       "      <th>Band_16</th>\n",
       "      <th>Band_17</th>\n",
       "      <th>Band_18</th>\n",
       "      <th>Band_19</th>\n",
       "      <th>Band_20</th>\n",
       "      <th>Band_21</th>\n",
       "      <th>Band_22</th>\n",
       "      <th>Band_23</th>\n",
       "      <th>Band_24</th>\n",
       "      <th>value</th>\n",
       "    </tr>\n",
       "  </thead>\n",
       "  <tbody>\n",
       "    <tr>\n",
       "      <th>20</th>\n",
       "      <td>145.0</td>\n",
       "      <td>140.0</td>\n",
       "      <td>103.0</td>\n",
       "      <td>0.091142</td>\n",
       "      <td>0.106801</td>\n",
       "      <td>0.209648</td>\n",
       "      <td>0.240946</td>\n",
       "      <td>3.210327</td>\n",
       "      <td>25.740040</td>\n",
       "      <td>0.180059</td>\n",
       "      <td>...</td>\n",
       "      <td>0.069459</td>\n",
       "      <td>0.385756</td>\n",
       "      <td>-0.030172</td>\n",
       "      <td>0.168968</td>\n",
       "      <td>-0.027473</td>\n",
       "      <td>22.0</td>\n",
       "      <td>75.438713</td>\n",
       "      <td>6.937500</td>\n",
       "      <td>284.502625</td>\n",
       "      <td>330.0</td>\n",
       "    </tr>\n",
       "    <tr>\n",
       "      <th>21</th>\n",
       "      <td>115.0</td>\n",
       "      <td>104.0</td>\n",
       "      <td>83.0</td>\n",
       "      <td>0.040136</td>\n",
       "      <td>0.051136</td>\n",
       "      <td>0.096760</td>\n",
       "      <td>0.112459</td>\n",
       "      <td>2.455261</td>\n",
       "      <td>129.650604</td>\n",
       "      <td>0.200174</td>\n",
       "      <td>...</td>\n",
       "      <td>0.075034</td>\n",
       "      <td>0.374846</td>\n",
       "      <td>-0.011453</td>\n",
       "      <td>0.072586</td>\n",
       "      <td>-0.080882</td>\n",
       "      <td>26.0</td>\n",
       "      <td>80.168571</td>\n",
       "      <td>6.140625</td>\n",
       "      <td>242.816254</td>\n",
       "      <td>420.0</td>\n",
       "    </tr>\n",
       "    <tr>\n",
       "      <th>22</th>\n",
       "      <td>132.0</td>\n",
       "      <td>133.0</td>\n",
       "      <td>144.0</td>\n",
       "      <td>0.053319</td>\n",
       "      <td>0.056899</td>\n",
       "      <td>0.069386</td>\n",
       "      <td>0.078795</td>\n",
       "      <td>2.346620</td>\n",
       "      <td>55.113884</td>\n",
       "      <td>0.393531</td>\n",
       "      <td>...</td>\n",
       "      <td>0.063502</td>\n",
       "      <td>0.161364</td>\n",
       "      <td>-0.021539</td>\n",
       "      <td>0.025704</td>\n",
       "      <td>0.008264</td>\n",
       "      <td>22.0</td>\n",
       "      <td>72.849159</td>\n",
       "      <td>6.812500</td>\n",
       "      <td>264.922150</td>\n",
       "      <td>380.0</td>\n",
       "    </tr>\n",
       "    <tr>\n",
       "      <th>23</th>\n",
       "      <td>118.0</td>\n",
       "      <td>122.0</td>\n",
       "      <td>130.0</td>\n",
       "      <td>0.051942</td>\n",
       "      <td>0.053144</td>\n",
       "      <td>0.068749</td>\n",
       "      <td>0.077193</td>\n",
       "      <td>2.354188</td>\n",
       "      <td>60.971813</td>\n",
       "      <td>0.313551</td>\n",
       "      <td>...</td>\n",
       "      <td>0.057856</td>\n",
       "      <td>0.184518</td>\n",
       "      <td>-0.021891</td>\n",
       "      <td>0.033772</td>\n",
       "      <td>0.036364</td>\n",
       "      <td>32.0</td>\n",
       "      <td>72.297997</td>\n",
       "      <td>6.515625</td>\n",
       "      <td>224.668610</td>\n",
       "      <td>610.0</td>\n",
       "    </tr>\n",
       "    <tr>\n",
       "      <th>24</th>\n",
       "      <td>127.0</td>\n",
       "      <td>116.0</td>\n",
       "      <td>93.0</td>\n",
       "      <td>0.053548</td>\n",
       "      <td>0.063501</td>\n",
       "      <td>0.114496</td>\n",
       "      <td>0.132881</td>\n",
       "      <td>2.481035</td>\n",
       "      <td>74.809471</td>\n",
       "      <td>0.210364</td>\n",
       "      <td>...</td>\n",
       "      <td>0.074319</td>\n",
       "      <td>0.353287</td>\n",
       "      <td>-0.017708</td>\n",
       "      <td>0.087049</td>\n",
       "      <td>-0.073333</td>\n",
       "      <td>39.0</td>\n",
       "      <td>70.844902</td>\n",
       "      <td>6.953125</td>\n",
       "      <td>219.464935</td>\n",
       "      <td>250.0</td>\n",
       "    </tr>\n",
       "  </tbody>\n",
       "</table>\n",
       "<p>5 rows × 25 columns</p>\n",
       "</div>"
      ],
      "text/plain": [
       "    Band_1  Band_2  Band_3    Band_4    Band_5    Band_6    Band_7    Band_8  \\\n",
       "20   145.0   140.0   103.0  0.091142  0.106801  0.209648  0.240946  3.210327   \n",
       "21   115.0   104.0    83.0  0.040136  0.051136  0.096760  0.112459  2.455261   \n",
       "22   132.0   133.0   144.0  0.053319  0.056899  0.069386  0.078795  2.346620   \n",
       "23   118.0   122.0   130.0  0.051942  0.053144  0.068749  0.077193  2.354188   \n",
       "24   127.0   116.0    93.0  0.053548  0.063501  0.114496  0.132881  2.481035   \n",
       "\n",
       "        Band_9   Band_10  ...   Band_16   Band_17   Band_18   Band_19  \\\n",
       "20   25.740040  0.180059  ...  0.069459  0.385756 -0.030172  0.168968   \n",
       "21  129.650604  0.200174  ...  0.075034  0.374846 -0.011453  0.072586   \n",
       "22   55.113884  0.393531  ...  0.063502  0.161364 -0.021539  0.025704   \n",
       "23   60.971813  0.313551  ...  0.057856  0.184518 -0.021891  0.033772   \n",
       "24   74.809471  0.210364  ...  0.074319  0.353287 -0.017708  0.087049   \n",
       "\n",
       "     Band_20  Band_21    Band_22   Band_23     Band_24  value  \n",
       "20 -0.027473     22.0  75.438713  6.937500  284.502625  330.0  \n",
       "21 -0.080882     26.0  80.168571  6.140625  242.816254  420.0  \n",
       "22  0.008264     22.0  72.849159  6.812500  264.922150  380.0  \n",
       "23  0.036364     32.0  72.297997  6.515625  224.668610  610.0  \n",
       "24 -0.073333     39.0  70.844902  6.953125  219.464935  250.0  \n",
       "\n",
       "[5 rows x 25 columns]"
      ]
     },
     "execution_count": 83,
     "metadata": {},
     "output_type": "execute_result"
    }
   ],
   "source": [
    "features2 = pd.DataFrame(X2)\n",
    "\n",
    "band_names2 = []\n",
    "for i in range(X2.shape[1]):\n",
    "#for i in range(0,2500):\n",
    "    nband = \"Band_\"+ str(i+1)\n",
    "    band_names2.append(nband)\n",
    "\n",
    "features2.columns = band_names2\n",
    "\n",
    "print('The shape of our features is:', features2.shape)\n",
    "print('The number of Spectra is:', features2.shape[0])\n",
    "print('The number of bands is:', features2.shape[1])\n",
    "\n",
    "features2['value'] = y2\n",
    "\n",
    "features2.tail()\n"
   ]
  },
  {
   "cell_type": "code",
   "execution_count": 84,
   "metadata": {},
   "outputs": [],
   "source": [
    "frames = [features1, features2]\n",
    "features = pd.concat(frames)"
   ]
  },
  {
   "cell_type": "code",
   "execution_count": 85,
   "metadata": {},
   "outputs": [
    {
     "name": "stdout",
     "output_type": "stream",
     "text": [
      "Training Features Shape:  (75, 24)\n",
      "Training Labels Shape:  (75,)\n"
     ]
    }
   ],
   "source": [
    "# Labels are the values we want to predict\n",
    "labels = np.array(features['value'])\n",
    "\n",
    "# Remove the labels from the features\n",
    "# axis 1 refers to the columns\n",
    "features = features.drop('value', axis = 1)\n",
    "\n",
    "# Saving feature names for later use\n",
    "feature_list = list(features.columns)\n",
    "\n",
    "# Convert to numpy array\n",
    "features = np.array(features)\n",
    "\n",
    "print('Training Features Shape: ', features.shape)\n",
    "print('Training Labels Shape: ', labels.shape)"
   ]
  },
  {
   "cell_type": "code",
   "execution_count": 86,
   "metadata": {},
   "outputs": [
    {
     "data": {
      "text/plain": [
       "75"
      ]
     },
     "execution_count": 86,
     "metadata": {},
     "output_type": "execute_result"
    }
   ],
   "source": [
    "features.shape[0]"
   ]
  },
  {
   "cell_type": "code",
   "execution_count": 87,
   "metadata": {},
   "outputs": [
    {
     "name": "stderr",
     "output_type": "stream",
     "text": [
      "[Parallel(n_jobs=-1)]: Using backend LokyBackend with 4 concurrent workers.\n",
      "[Parallel(n_jobs=-1)]: Done  47 tasks      | elapsed:    1.0s\n",
      "[Parallel(n_jobs=-1)]: Done  75 out of  75 | elapsed:    1.1s finished\n",
      "[Parallel(n_jobs=-1)]: Using backend LokyBackend with 4 concurrent workers.\n",
      "[Parallel(n_jobs=-1)]: Done  62 tasks      | elapsed:    0.0s\n",
      "[Parallel(n_jobs=-1)]: Done  75 out of  75 | elapsed:    0.0s finished\n",
      "[Parallel(n_jobs=-1)]: Using backend LokyBackend with 4 concurrent workers.\n",
      "[Parallel(n_jobs=-1)]: Done  68 out of  75 | elapsed:    0.0s remaining:    0.0s\n",
      "[Parallel(n_jobs=-1)]: Done  75 out of  75 | elapsed:    0.0s finished\n",
      "[Parallel(n_jobs=-1)]: Using backend LokyBackend with 4 concurrent workers.\n",
      "[Parallel(n_jobs=-1)]: Done  65 tasks      | elapsed:    0.0s\n",
      "[Parallel(n_jobs=-1)]: Done  75 out of  75 | elapsed:    0.0s finished\n",
      "[Parallel(n_jobs=-1)]: Using backend LokyBackend with 4 concurrent workers.\n",
      "[Parallel(n_jobs=-1)]: Done  65 tasks      | elapsed:    0.0s\n",
      "[Parallel(n_jobs=-1)]: Done  75 out of  75 | elapsed:    0.0s finished\n",
      "[Parallel(n_jobs=-1)]: Using backend LokyBackend with 4 concurrent workers.\n",
      "[Parallel(n_jobs=-1)]: Done  65 tasks      | elapsed:    0.0s\n",
      "[Parallel(n_jobs=-1)]: Done  75 out of  75 | elapsed:    0.0s finished\n",
      "[Parallel(n_jobs=-1)]: Using backend LokyBackend with 4 concurrent workers.\n",
      "[Parallel(n_jobs=-1)]: Done  66 tasks      | elapsed:    0.0s\n",
      "[Parallel(n_jobs=-1)]: Done  75 out of  75 | elapsed:    0.0s finished\n",
      "[Parallel(n_jobs=-1)]: Using backend LokyBackend with 4 concurrent workers.\n",
      "[Parallel(n_jobs=-1)]: Done  62 tasks      | elapsed:    0.0s\n",
      "[Parallel(n_jobs=-1)]: Done  75 out of  75 | elapsed:    0.0s finished\n",
      "[Parallel(n_jobs=-1)]: Using backend LokyBackend with 4 concurrent workers.\n",
      "[Parallel(n_jobs=-1)]: Done  65 tasks      | elapsed:    0.0s\n",
      "[Parallel(n_jobs=-1)]: Done  75 out of  75 | elapsed:    0.0s finished\n",
      "[Parallel(n_jobs=-1)]: Using backend LokyBackend with 4 concurrent workers.\n",
      "[Parallel(n_jobs=-1)]: Done  65 tasks      | elapsed:    0.0s\n",
      "[Parallel(n_jobs=-1)]: Done  75 out of  75 | elapsed:    0.0s finished\n",
      "[Parallel(n_jobs=-1)]: Using backend LokyBackend with 4 concurrent workers.\n",
      "[Parallel(n_jobs=-1)]: Done  65 tasks      | elapsed:    0.0s\n",
      "[Parallel(n_jobs=-1)]: Done  75 out of  75 | elapsed:    0.0s finished\n",
      "[Parallel(n_jobs=-1)]: Using backend LokyBackend with 4 concurrent workers.\n",
      "[Parallel(n_jobs=-1)]: Done  62 tasks      | elapsed:    0.0s\n",
      "[Parallel(n_jobs=-1)]: Done  75 out of  75 | elapsed:    0.0s finished\n",
      "[Parallel(n_jobs=-1)]: Using backend LokyBackend with 4 concurrent workers.\n",
      "[Parallel(n_jobs=-1)]: Done  62 tasks      | elapsed:    0.0s\n",
      "[Parallel(n_jobs=-1)]: Done  68 out of  75 | elapsed:    0.0s remaining:    0.0s\n",
      "[Parallel(n_jobs=-1)]: Done  75 out of  75 | elapsed:    0.0s finished\n",
      "[Parallel(n_jobs=-1)]: Using backend LokyBackend with 4 concurrent workers.\n",
      "[Parallel(n_jobs=-1)]: Done  65 tasks      | elapsed:    0.0s\n",
      "[Parallel(n_jobs=-1)]: Done  75 out of  75 | elapsed:    0.0s finished\n",
      "[Parallel(n_jobs=-1)]: Using backend LokyBackend with 4 concurrent workers.\n",
      "[Parallel(n_jobs=-1)]: Done  65 tasks      | elapsed:    0.0s\n",
      "[Parallel(n_jobs=-1)]: Done  75 out of  75 | elapsed:    0.0s finished\n",
      "[Parallel(n_jobs=-1)]: Using backend LokyBackend with 4 concurrent workers.\n",
      "[Parallel(n_jobs=-1)]: Done  59 tasks      | elapsed:    0.0s\n",
      "[Parallel(n_jobs=-1)]: Done  68 out of  75 | elapsed:    0.0s remaining:    0.0s\n",
      "[Parallel(n_jobs=-1)]: Done  75 out of  75 | elapsed:    0.0s finished\n",
      "[Parallel(n_jobs=-1)]: Using backend LokyBackend with 4 concurrent workers.\n",
      "[Parallel(n_jobs=-1)]: Done  65 tasks      | elapsed:    0.0s\n",
      "[Parallel(n_jobs=-1)]: Done  75 out of  75 | elapsed:    0.0s finished\n",
      "[Parallel(n_jobs=-1)]: Using backend LokyBackend with 4 concurrent workers.\n",
      "[Parallel(n_jobs=-1)]: Done  65 tasks      | elapsed:    0.0s\n",
      "[Parallel(n_jobs=-1)]: Done  75 out of  75 | elapsed:    0.0s finished\n",
      "[Parallel(n_jobs=-1)]: Using backend LokyBackend with 4 concurrent workers.\n",
      "[Parallel(n_jobs=-1)]: Done  65 tasks      | elapsed:    0.0s\n",
      "[Parallel(n_jobs=-1)]: Done  75 out of  75 | elapsed:    0.0s finished\n",
      "[Parallel(n_jobs=-1)]: Using backend LokyBackend with 4 concurrent workers.\n",
      "[Parallel(n_jobs=-1)]: Done  65 tasks      | elapsed:    0.0s\n",
      "[Parallel(n_jobs=-1)]: Done  75 out of  75 | elapsed:    0.0s finished\n",
      "[Parallel(n_jobs=-1)]: Using backend LokyBackend with 4 concurrent workers.\n",
      "[Parallel(n_jobs=-1)]: Done  62 tasks      | elapsed:    0.0s\n",
      "[Parallel(n_jobs=-1)]: Done  68 out of  75 | elapsed:    0.0s remaining:    0.0s\n",
      "[Parallel(n_jobs=-1)]: Done  75 out of  75 | elapsed:    0.0s finished\n",
      "[Parallel(n_jobs=-1)]: Using backend LokyBackend with 4 concurrent workers.\n",
      "[Parallel(n_jobs=-1)]: Done  65 tasks      | elapsed:    0.0s\n",
      "[Parallel(n_jobs=-1)]: Done  75 out of  75 | elapsed:    0.0s finished\n",
      "[Parallel(n_jobs=-1)]: Using backend LokyBackend with 4 concurrent workers.\n",
      "[Parallel(n_jobs=-1)]: Done  65 tasks      | elapsed:    0.0s\n",
      "[Parallel(n_jobs=-1)]: Done  75 out of  75 | elapsed:    0.0s finished\n"
     ]
    },
    {
     "name": "stdout",
     "output_type": "stream",
     "text": [
      "Suggested number of components:  3\n"
     ]
    },
    {
     "data": {
      "image/png": "[encoded data removed]",
      "text/plain": [
       "<Figure size 432x288 with 1 Axes>"
      ]
     },
     "metadata": {},
     "output_type": "display_data"
    }
   ],
   "source": [
    "mse = []\n",
    "component = np.arange(1, features.shape[1])\n",
    "\n",
    "for i in component:\n",
    "    pls = PLSRegression(n_components=i)\n",
    "\n",
    "    # Cross-validation\n",
    "    y_cv = cross_val_predict(pls, features, labels, cv=features.shape[0], n_jobs=-1, verbose=2)\n",
    "\n",
    "    mse.append(mean_squared_error(labels, y_cv))\n",
    "\n",
    "   # comp = 100*(i+1)/40\n",
    "\n",
    "\n",
    "    # Calculate and print the position of minimum in MSE\n",
    "msemin = np.argmin(mse)\n",
    "suggested_comp = msemin+1\n",
    "print(\"Suggested number of components: \", suggested_comp)\n",
    "print(\"Suggested number of components: {}\".format(suggested_comp), file=open(results_txt, \"a\"))\n",
    "\n",
    "with plt.style.context(('ggplot')):\n",
    "    sns.set(rc=settings_sns, font_scale=1.5)\n",
    "    plt.plot(component, np.array(mse), '-v', color = 'blue', mfc='blue')\n",
    "    plt.plot(component[msemin], np.array(mse)[msemin], 'P', ms=10, mfc='red')\n",
    "    plt.xlabel('Anzahl von PLS-Komponenten')\n",
    "    plt.ylabel('MSE')\n",
    "    plt.title('PLSR MSE vs. Komponenten')\n",
    "    plt.xlim(left=-1)\n",
    "    \n",
    "    plt.savefig(comp_plot,bbox_inches='tight')\n",
    "\n",
    "plt.show()"
   ]
  },
  {
   "cell_type": "code",
   "execution_count": 88,
   "metadata": {},
   "outputs": [
    {
     "name": "stdout",
     "output_type": "stream",
     "text": [
      "R2 calib: 0.497\n",
      "R2 LOOCV: 0.280\n",
      "MSE calib: 24369.125\n",
      "MSE LOOCV: 34886.644\n"
     ]
    },
    {
     "name": "stderr",
     "output_type": "stream",
     "text": [
      "[Parallel(n_jobs=-1)]: Using backend LokyBackend with 4 concurrent workers.\n",
      "[Parallel(n_jobs=-1)]: Done  68 out of  75 | elapsed:    0.0s remaining:    0.0s\n",
      "[Parallel(n_jobs=-1)]: Done  75 out of  75 | elapsed:    0.0s finished\n"
     ]
    }
   ],
   "source": [
    "# Define PLS object with optimal number of components\n",
    "pls_opt = PLSRegression(n_components=msemin+1)\n",
    "\n",
    "# Fir to the entire dataset\n",
    "pls_opt.fit(features, labels)\n",
    "y_c = pls_opt.predict(features)\n",
    "\n",
    "# Cross-validation\n",
    "y_cv = cross_val_predict(pls_opt, features, labels, cv=features.shape[0], n_jobs=-1, verbose=2)\n",
    "\n",
    "# Calculate scores for calibration and cross-validation\n",
    "score_c = r2_score(labels, y_c)\n",
    "score_cv = r2_score(labels, y_cv)\n",
    "\n",
    "# Calculate mean squared error for calibration and cross validation\n",
    "mse_c = mean_squared_error(labels, y_c)\n",
    "mse_cv = mean_squared_error(labels, y_cv)\n",
    "\n",
    "\n",
    "print('R2 calib: %5.3f'  % score_c)\n",
    "print('R2 LOOCV: %5.3f'  % score_cv)\n",
    "print('MSE calib: %5.3f' % mse_c)\n",
    "print('MSE LOOCV: %5.3f' % mse_cv)\n"
   ]
  },
  {
   "cell_type": "code",
   "execution_count": 89,
   "metadata": {},
   "outputs": [
    {
     "name": "stdout",
     "output_type": "stream",
     "text": [
      "Band 1: 1.089052235930696\n",
      "Band 2: 0.771956239857361\n",
      "Band 3: 0.9898443466982102\n",
      "Band 4: 0.5220183800311808\n",
      "Band 5: 1.0517980014331543\n",
      "Band 6: 0.8597443935750793\n",
      "Band 7: 0.973205180489043\n",
      "Band 8: 1.523628983741512\n",
      "Band 9: 0.2325550884649866\n",
      "Band 10: 0.7850273633085477\n",
      "Band 11: 1.3716440396821497\n",
      "Band 12: 0.44847906274139715\n",
      "Band 13: 0.638456385864521\n",
      "Band 14: 0.88682366090993\n",
      "Band 15: 1.0765372490964482\n",
      "Band 16: 0.87500035039887\n",
      "Band 17: 1.182488036667799\n",
      "Band 18: 1.1196794323385744\n",
      "Band 19: 1.4384612798782002\n",
      "Band 20: 1.5756608605888724\n",
      "Band 21: 0.6511366894347106\n",
      "Band 22: 0.7078079532048961\n",
      "Band 23: 0.9833289513628389\n",
      "Band 24: 0.9404596276442129\n"
     ]
    }
   ],
   "source": [
    "# function for variable importance\n",
    "def vip(model):\n",
    "    t = model.x_scores_\n",
    "    w = model.x_weights_\n",
    "    q = model.y_loadings_\n",
    "    p, h = w.shape\n",
    "    vips = np.zeros((p,))\n",
    "    s = np.diag(t.T @ t @ q.T @ q).reshape(h, -1)\n",
    "    total_s = np.sum(s)\n",
    "    for i in range(p):\n",
    "        weight = np.array([ (w[i,j] / np.linalg.norm(w[:,j]))**2 for j in range(h) ])\n",
    "        vips[i] = np.sqrt(p*(s.T @ weight)/total_s)\n",
    "    return vips\n",
    "\n",
    "importance = vip(pls_opt)\n",
    "\n",
    "imp = {}\n",
    "for i in range(features.shape[1]):\n",
    "    print('Band {}: {}'.format(i+1, importance[i]))\n",
    "    print('Band {}: {}'.format(i+1, importance[i]), file=open(results_txt, \"a\"))\n",
    "    imp['Band{}'.format(i+1)] = importance[i]\n",
    "\n",
    "\n"
   ]
  },
  {
   "cell_type": "code",
   "execution_count": 90,
   "metadata": {},
   "outputs": [
    {
     "name": "stdout",
     "output_type": "stream",
     "text": [
      "Band20: 1.5756608605888724\n",
      "Band8: 1.523628983741512\n",
      "Band19: 1.4384612798782002\n",
      "Band11: 1.3716440396821497\n",
      "Band17: 1.182488036667799\n",
      "Band18: 1.1196794323385744\n",
      "Band1: 1.089052235930696\n",
      "Band15: 1.0765372490964482\n",
      "Band5: 1.0517980014331543\n",
      "Band3: 0.9898443466982102\n",
      "Band23: 0.9833289513628389\n",
      "Band7: 0.973205180489043\n",
      "Band24: 0.9404596276442129\n",
      "Band14: 0.88682366090993\n",
      "Band16: 0.87500035039887\n",
      "Band6: 0.8597443935750793\n",
      "Band10: 0.7850273633085477\n",
      "Band2: 0.771956239857361\n",
      "Band22: 0.7078079532048961\n",
      "Band21: 0.6511366894347106\n",
      "Band13: 0.638456385864521\n",
      "Band4: 0.5220183800311808\n",
      "Band12: 0.44847906274139715\n",
      "Band9: 0.2325550884649866\n"
     ]
    }
   ],
   "source": [
    "sorted_imp = dict(sorted(imp.items(), key=itemgetter(1), reverse=True))\n",
    "\n",
    "for i in sorted_imp:\n",
    "    print('{}: {}'.format(i, sorted_imp[i]))"
   ]
  },
  {
   "cell_type": "code",
   "execution_count": 91,
   "metadata": {},
   "outputs": [
    {
     "data": {
      "image/png": "[encoded data removed]",
      "text/plain": [
       "<Figure size 648x360 with 1 Axes>"
      ]
     },
     "metadata": {},
     "output_type": "display_data"
    }
   ],
   "source": [
    "# quality of calibration model\n",
    "\n",
    "# Fit a line to the CV vs response\n",
    "z = np.polyfit(labels, y_c, 1)\n",
    "with plt.style.context(('ggplot')):\n",
    "    sns.set(rc=settings_sns, font_scale=1.5)\n",
    "    fig, ax = plt.subplots(figsize=(9, 5))\n",
    "    ax.scatter(y_c, labels, c='red', edgecolors='k')\n",
    "    #Plot the best fit line\n",
    "    ax.plot(np.polyval(z,labels), labels, c='blue', linewidth=1)\n",
    "    #Plot the ideal 1:1 line\n",
    "    ax.plot(labels, labels, color='green', linewidth=1)\n",
    "    plt.title(attribute + ' (calibrated model)')\n",
    "    plt.xlabel('predicted')\n",
    "    plt.ylabel('observed')\n",
    "    plt.legend(['regression \\nr$^{2}$ (CV): '+str(round(score_c,2)),'1:1 line','samples'])\n",
    "\n",
    "    #plt.savefig(validation_plot,bbox_inches='tight')\n",
    "\n",
    "    plt.show()"
   ]
  },
  {
   "cell_type": "code",
   "execution_count": 92,
   "metadata": {},
   "outputs": [
    {
     "data": {
      "image/png": "[encoded data removed]",
      "text/plain": [
       "<Figure size 648x360 with 1 Axes>"
      ]
     },
     "metadata": {},
     "output_type": "display_data"
    }
   ],
   "source": [
    "# quality of LOOCV validated model\n",
    "\n",
    "# Fit a line to the CV vs response\n",
    "z = np.polyfit(labels, y_cv, 1)\n",
    "with plt.style.context(('ggplot')):\n",
    "    sns.set(rc=settings_sns, font_scale=1.5)\n",
    "    fig, ax = plt.subplots(figsize=(9, 5))\n",
    "    ax.scatter(y_cv, labels, c='red', edgecolors='k')\n",
    "    #Plot the best fit line\n",
    "    ax.plot(np.polyval(z,labels), labels, c='blue', linewidth=1)\n",
    "    #Plot the ideal 1:1 line\n",
    "    ax.plot(labels, labels, color='green', linewidth=1)\n",
    "    plt.title(attribute + ' (validated model)')\n",
    "    plt.xlabel('predicted')\n",
    "    plt.ylabel('observed')\n",
    "    plt.legend(['regression \\nr$^{2}$ (CV): '+str(round(score_cv,2)),'1:1 line','samples'])\n",
    "\n",
    "    #plt.savefig(validation_plot,bbox_inches='tight')\n",
    "\n",
    "    plt.show()"
   ]
  },
  {
   "cell_type": "code",
   "execution_count": 93,
   "metadata": {},
   "outputs": [
    {
     "name": "stdout",
     "output_type": "stream",
     "text": [
      "-------------\n",
      "n of the test data: 75\n",
      "Mean of the variable: 302.01\n",
      "Standard deviation of the variable: 220.11\n",
      "-------------\n",
      "Mean Absolute Error: 197.48\n",
      "Mean squared error: 34886.64\n",
      "RMSE: 186.78\n",
      "RPD: 1.18 | How often does RMSE of Prediction fit in the Standard Deviation of the samples\n",
      "mean absolute percentage error (MAPE): 102.97 %\n",
      "accuracy (100 % - mape): -2.97 %\n",
      "-------------\n",
      "Coefficient of determination r²: 0.28\n"
     ]
    }
   ],
   "source": [
    "# Calculate the absolute errors\n",
    "errors = abs(y_cv-labels)\n",
    "# Print out the mean absolute error (mae)\n",
    "\n",
    "# Print out the mean absolute error (mae)\n",
    "\n",
    "\n",
    "print('-------------')\n",
    "print('n of the test data: {}'.format(len(labels)))\n",
    "print('Mean of the variable: {:.2f}'.format(np.mean(labels)))\n",
    "print('Standard deviation of the variable: {:.2f}'.format(np.std(labels)))\n",
    "print('-------------')\n",
    "print('Mean Absolute Error: {:.2f}'.format(np.mean(errors)))\n",
    "\n",
    "mse = mean_squared_error(labels, y_cv)\n",
    "print('Mean squared error: {:.2f}'.format(mse))\n",
    "print('RMSE: {:.2f}'.format(np.sqrt(mse)))\n",
    "print('RPD: {:.2f} | How often does RMSE of Prediction fit in the Standard Deviation of the samples'.format(np.std(labels)/np.sqrt(mse)))\n",
    "\n",
    "\n",
    "'''\n",
    "To put our predictions in perspective, we can calculate an accuracy using\n",
    "the mean average percentage error subtracted from 100 %.\n",
    "'''\n",
    "# Calculate mean absolute percentage error (MAPE)\n",
    "mape = 100 * (errors / labels)\n",
    "# Calculate and display accuracy\n",
    "accuracy = 100 - np.mean(mape)\n",
    "print('mean absolute percentage error (MAPE): {:.2f} %'.format(np.mean(mape)))\n",
    "print('accuracy (100 % - mape): {:.2f} %'.format(accuracy))\n",
    "\n",
    "\n",
    "print('-------------')\n",
    "# The coefficient of determination: 1 is perfect prediction\n",
    "print('Coefficient of determination r²: {:.2f}'.format(r2_score(labels, y_cv)))\n",
    "\n",
    "\n",
    "\n"
   ]
  },
  {
   "cell_type": "code",
   "execution_count": null,
   "metadata": {},
   "outputs": [],
   "source": []
  },
  {
   "cell_type": "code",
   "execution_count": null,
   "metadata": {},
   "outputs": [],
   "source": []
  },
  {
   "cell_type": "code",
   "execution_count": null,
   "metadata": {},
   "outputs": [],
   "source": []
  },
  {
   "cell_type": "code",
   "execution_count": null,
   "metadata": {},
   "outputs": [],
   "source": []
  },
  {
   "cell_type": "code",
   "execution_count": null,
   "metadata": {},
   "outputs": [],
   "source": []
  },
  {
   "cell_type": "code",
   "execution_count": null,
   "metadata": {},
   "outputs": [],
   "source": []
  },
  {
   "cell_type": "code",
   "execution_count": 21,
   "metadata": {},
   "outputs": [
    {
     "name": "stdout",
     "output_type": "stream",
     "text": [
      "Reshaped from (916, 165, 24) to (151140, 24)\n"
     ]
    }
   ],
   "source": [
    "# Predicting the rest of the image\n",
    "\n",
    "# Take our full image and reshape into long 2d array (nrow * ncol, nband) for classification\n",
    "new_shape = (img.shape[0] * img.shape[1], img.shape[2])\n",
    "img_as_array = img[:, :, :].reshape(new_shape)\n",
    "\n",
    "print('Reshaped from {o} to {n}'.format(o=img.shape, n=img_as_array.shape))\n",
    "\n",
    "img_as_array = np.nan_to_num(img_as_array)"
   ]
  },
  {
   "cell_type": "code",
   "execution_count": 22,
   "metadata": {},
   "outputs": [],
   "source": [
    "prediction_ = pls_opt.predict(img_as_array)"
   ]
  },
  {
   "cell_type": "code",
   "execution_count": 23,
   "metadata": {},
   "outputs": [
    {
     "name": "stdout",
     "output_type": "stream",
     "text": [
      "Reshaped back to (916, 165)\n"
     ]
    }
   ],
   "source": [
    "prediction = prediction_.reshape(img[:, :, 0].shape)\n",
    "print('Reshaped back to {}'.format(prediction.shape))"
   ]
  },
  {
   "cell_type": "code",
   "execution_count": 24,
   "metadata": {},
   "outputs": [
    {
     "data": {
      "text/plain": [
       "<matplotlib.image.AxesImage at 0x243e19629a0>"
      ]
     },
     "execution_count": 24,
     "metadata": {},
     "output_type": "execute_result"
    },
    {
     "data": {
      "image/png": "[encoded data removed]",
      "text/plain": [
       "<Figure size 432x288 with 1 Axes>"
      ]
     },
     "metadata": {
      "needs_background": "light"
     },
     "output_type": "display_data"
    }
   ],
   "source": [
    "# generate mask image from red band\n",
    "mask = np.copy(img[:,:,0])\n",
    "mask[mask > 0.0] = 1.0 # all actual pixels have a value of 1.0\n",
    "\n",
    "# plot mask\n",
    "\n",
    "plt.imshow(mask)"
   ]
  },
  {
   "cell_type": "code",
   "execution_count": 25,
   "metadata": {},
   "outputs": [
    {
     "data": {
      "image/png": "[encoded data removed]",
      "text/plain": [
       "<Figure size 432x288 with 2 Axes>"
      ]
     },
     "metadata": {
      "needs_background": "light"
     },
     "output_type": "display_data"
    }
   ],
   "source": [
    "# mask classification an plot\n",
    "\n",
    "prediction_ = prediction*mask\n",
    "\n",
    "plt.subplot(121)\n",
    "plt.imshow(prediction, cmap=plt.cm.Spectral)\n",
    "plt.title('classification unmasked')\n",
    "\n",
    "plt.subplot(122)\n",
    "plt.imshow(prediction_, cmap=plt.cm.Spectral)\n",
    "plt.title('classification masked')\n",
    "\n",
    "plt.show()"
   ]
  },
  {
   "cell_type": "code",
   "execution_count": 26,
   "metadata": {},
   "outputs": [
    {
     "name": "stdout",
     "output_type": "stream",
     "text": [
      "Image saved to: N:/Projekt_Wetscapes/Bearbeitung/2020_11_24_Lichtehagen/results/plsr/2020_LH_pre_FM.tif\n"
     ]
    }
   ],
   "source": [
    "# Save regression\n",
    "\n",
    "cols = img.shape[1]\n",
    "rows = img.shape[0]\n",
    "\n",
    "driver = gdal.GetDriverByName(\"gtiff\")\n",
    "outdata = driver.Create(prediction_map, cols, rows, 1, gdal.GDT_Float32)\n",
    "outdata.SetGeoTransform(img_ds.GetGeoTransform())##sets same geotransform as input\n",
    "outdata.SetProjection(img_ds.GetProjection())##sets same projection as input\n",
    "outdata.GetRasterBand(1).WriteArray(prediction_)\n",
    "outdata.FlushCache() ##saves to disk!!\n",
    "print('Image saved to: {}'.format(prediction_map))"
   ]
  },
  {
   "cell_type": "code",
   "execution_count": 27,
   "metadata": {},
   "outputs": [
    {
     "data": {
      "image/png": "[encoded data removed]",
      "text/plain": [
       "<Figure size 432x288 with 3 Axes>"
      ]
     },
     "metadata": {
      "needs_background": "light"
     },
     "output_type": "display_data"
    }
   ],
   "source": [
    "# Display images\n",
    "\n",
    "\n",
    "plt.subplot(121)\n",
    "plt.imshow(img[:, :, 0], cmap=plt.cm.Greys_r)\n",
    "plt.title('RS image - first band')\n",
    "\n",
    "plt.subplot(122)\n",
    "plt.imshow(prediction_, cmap=plt.cm.Spectral, vmin= y.min(), vmax=y.max())\n",
    "plt.title('Prediction of ' + attribute)\n",
    "plt.colorbar()\n",
    "\n",
    "plt.show()"
   ]
  },
  {
   "cell_type": "code",
   "execution_count": null,
   "metadata": {},
   "outputs": [],
   "source": []
  }
 ],
 "metadata": {
  "kernelspec": {
   "display_name": "Python 3",
   "language": "python",
   "name": "python3"
  },
  "language_info": {
   "codemirror_mode": {
    "name": "ipython",
    "version": 3
   },
   "file_extension": ".py",
   "mimetype": "text/x-python",
   "name": "python",
   "nbconvert_exporter": "python",
   "pygments_lexer": "ipython3",
   "version": "3.8.5"
  }
 },
 "nbformat": 4,
 "nbformat_minor": 4
}
