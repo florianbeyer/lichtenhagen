{
 "cells": [
  {
   "cell_type": "markdown",
   "metadata": {},
   "source": [
    "# Regression Script LOO CV\n",
    "## Partial Least Squares Regression\n",
    "\n",
    "### Florian Beyer\n",
    "### 2020-08-05\n",
    "### V0.2\n",
    "\n",
    "Quellen: \n",
    "- https://nirpyresearch.com/partial-least-squares-regression-python/\n",
    "variable importance: https://github.com/scikit-learn/scikit-learn/issues/7050"
   ]
  },
  {
   "cell_type": "code",
   "execution_count": 120,
   "metadata": {},
   "outputs": [],
   "source": [
    "# Requried Packages\n",
    "from osgeo import gdal, ogr, gdal_array # I/O image data\n",
    "import numpy as np # math and array handling\n",
    "import matplotlib.pyplot as plt # plot figures\n",
    "import pandas as pd # handling large data as table sheets\n",
    "from joblib import dump, load\n",
    "from operator import itemgetter\n",
    "\n",
    "from sklearn.cross_decomposition import PLSRegression\n",
    "from sklearn.metrics import mean_squared_error, r2_score\n",
    "from sklearn.model_selection import cross_val_predict\n",
    "\n",
    "import datetime\n",
    "\n",
    "import seaborn as sns\n",
    "\n",
    "# Tell GDAL to throw Python exceptions, and register all drivers\n",
    "gdal.UseExceptions()\n",
    "gdal.AllRegister()\n",
    "\n",
    "settings_sns = {'axes.facecolor': 'white',\n",
    "                'axes.edgecolor': '0',\n",
    "                'axes.grid': True,\n",
    "                'axes.axisbelow': True,\n",
    "                'axes.labelcolor': '.15',\n",
    "                'figure.facecolor': 'white',\n",
    "                'grid.color': '.8',\n",
    "                'grid.linestyle': '--',\n",
    "                'text.color': '0',\n",
    "                'xtick.color': '0',\n",
    "                'ytick.color': '0',\n",
    "                'xtick.direction': 'in',\n",
    "                'ytick.direction': 'in',\n",
    "                'lines.solid_capstyle': 'round',\n",
    "                'patch.edgecolor': 'w', \n",
    "                'patch.force_edgecolor': True,\n",
    "                'image.cmap': 'Greys',\n",
    "                'font.family': ['serif'],\n",
    "                'font.sans-serif': ['Arial', 'Liberation Sans', 'DejaVu Sans', 'Bitstream Vera Sans', 'sans-serif'],\n",
    "                'xtick.bottom': True,\n",
    "                'xtick.top': True,\n",
    "                'ytick.left': True,\n",
    "                'ytick.right': True,\n",
    "                'axes.spines.left': True,\n",
    "                'axes.spines.bottom': True,\n",
    "                'axes.spines.right': True,\n",
    "                'axes.spines.top': True}"
   ]
  },
  {
   "cell_type": "code",
   "execution_count": 121,
   "metadata": {},
   "outputs": [],
   "source": [
    "# data input\n",
    "\n",
    "# the remote sensing image you want to classify\n",
    "img_RS_pre = 'N:/Projekt_Wetscapes/Bearbeitung/2020_11_24_Lichtehagen/raster/005_stacks/2019_LH_pre_stack_24bands.tif'\n",
    "img_RS_post = 'N:/Projekt_Wetscapes/Bearbeitung/2020_11_24_Lichtehagen/raster/005_stacks/2019_LH_post_stack_24bands.tif'\n",
    "\n",
    "\n",
    "# training and validation\n",
    "#    as image in the same extand as your remote sensing image\n",
    "#    no data pixels = 0 or negative\n",
    "#    class pixels > 0 and as integer\n",
    "field = 'N:/Projekt_Wetscapes/Bearbeitung/2020_11_24_Lichtehagen/vector/2019_Felddaten.shp'\n",
    "\n",
    "\n",
    "# what is the attributes name of your classes in the shape file (field name of the classes)?\n",
    "attribute = 'FM'\n",
    "\n",
    "results_path = 'N:/Projekt_Wetscapes/Bearbeitung/2020_11_24_Lichtehagen/results/plsr/'\n",
    "name = '2020_LH_pre_post_'\n",
    "\n",
    "# save path, predicted image\n",
    "prediction_map = results_path + name + attribute +'.tif'\n",
    "\n",
    "comp_plot = results_path + name + attribute+'_components.pdf'\n",
    "\n",
    "validation_plot = results_path + name + attribute+'_regressionplot.pdf'\n",
    "\n",
    "results_txt = results_path + name + attribute+'.txt'\n",
    "\n",
    "# save path, trained model\n",
    "#save_model = 'D:\\\\OwnCloud\\\\WetScapes\\\\2020_02_21_Regression_Biomass\\\\Results\\\\PLSR_model.joblib'\n"
   ]
  },
  {
   "cell_type": "code",
   "execution_count": 122,
   "metadata": {},
   "outputs": [
    {
     "name": "stdout",
     "output_type": "stream",
     "text": [
      "Available attributes in the shape file are: ['Name', 'X', 'Y', 'Z', 'FM', 'TM']\n"
     ]
    }
   ],
   "source": [
    "# laod training data and show all shape attributes\n",
    "\n",
    "#model_dataset = gdal.Open(model_raster_fname)\n",
    "shape_dataset = ogr.Open(field)\n",
    "shape_layer = shape_dataset.GetLayer()\n",
    "\n",
    "# extract the names of all attributes (fieldnames) in the shape file\n",
    "attributes = []\n",
    "ldefn = shape_layer.GetLayerDefn()\n",
    "for n in range(ldefn.GetFieldCount()):\n",
    "    fdefn = ldefn.GetFieldDefn(n)\n",
    "    attributes.append(fdefn.name)\n",
    "    \n",
    "# print the attributes\n",
    "print('Available attributes in the shape file are: {}'.format(attributes))"
   ]
  },
  {
   "cell_type": "code",
   "execution_count": 123,
   "metadata": {},
   "outputs": [],
   "source": [
    "# Data preparation\n",
    "\n",
    "# load image data\n",
    "\n",
    "img_ds_pre = gdal.Open(img_RS_pre, gdal.GA_ReadOnly)\n",
    "img_ds_post = gdal.Open(img_RS_post, gdal.GA_ReadOnly)\n",
    "\n",
    "img = np.zeros((img_ds_pre.RasterYSize, img_ds_pre.RasterXSize, img_ds_pre.RasterCount),\n",
    "               gdal_array.GDALTypeCodeToNumericTypeCode(img_ds_pre.GetRasterBand(1).DataType))\n",
    "for b in range(img.shape[2]):\n",
    "    img[:, :, b] = img_ds_pre.GetRasterBand(b + 1).ReadAsArray()\n",
    "    \n",
    "img2 = np.zeros((img_ds_post.RasterYSize, img_ds_post.RasterXSize, img_ds_post.RasterCount),\n",
    "               gdal_array.GDALTypeCodeToNumericTypeCode(img_ds_post.GetRasterBand(1).DataType))\n",
    "for b in range(img2.shape[2]):\n",
    "    img2[:, :, b] = img_ds_post.GetRasterBand(b + 1).ReadAsArray()"
   ]
  },
  {
   "cell_type": "code",
   "execution_count": 124,
   "metadata": {},
   "outputs": [
    {
     "name": "stdout",
     "output_type": "stream",
     "text": [
      "Image extent: 916 x 166 (row x col)\n",
      "Number of Bands: 24\n",
      "Image extent: 917 x 166 (row x col)\n",
      "Number of Bands: 24\n"
     ]
    }
   ],
   "source": [
    "row = img_ds_pre.RasterYSize\n",
    "col = img_ds_pre.RasterXSize\n",
    "band_number = img_ds_pre.RasterCount\n",
    "\n",
    "print('Image extent: {} x {} (row x col)'.format(row, col))\n",
    "print('Number of Bands: {}'.format(band_number))\n",
    "\n",
    "row = img_ds_post.RasterYSize\n",
    "col = img_ds_post.RasterXSize\n",
    "band_number = img_ds_post.RasterCount\n",
    "\n",
    "print('Image extent: {} x {} (row x col)'.format(row, col))\n",
    "print('Number of Bands: {}'.format(band_number))\n"
   ]
  },
  {
   "cell_type": "code",
   "execution_count": 125,
   "metadata": {},
   "outputs": [
    {
     "data": {
      "text/plain": [
       "(916, 166, 24)"
      ]
     },
     "execution_count": 125,
     "metadata": {},
     "output_type": "execute_result"
    }
   ],
   "source": [
    "img.shape"
   ]
  },
  {
   "cell_type": "code",
   "execution_count": 126,
   "metadata": {},
   "outputs": [
    {
     "data": {
      "text/plain": [
       "(916, 166, 24)"
      ]
     },
     "execution_count": 126,
     "metadata": {},
     "output_type": "execute_result"
    }
   ],
   "source": [
    "img2 = img2[:916,:,:]\n",
    "img2.shape"
   ]
  },
  {
   "cell_type": "code",
   "execution_count": 127,
   "metadata": {},
   "outputs": [
    {
     "data": {
      "text/plain": [
       "(916, 166, 48)"
      ]
     },
     "execution_count": 127,
     "metadata": {},
     "output_type": "execute_result"
    }
   ],
   "source": [
    "img3 = np.concatenate((img,img2),axis=2)\n",
    "\n",
    "img3.shape"
   ]
  },
  {
   "cell_type": "code",
   "execution_count": 128,
   "metadata": {},
   "outputs": [],
   "source": [
    "# Data preparation\n",
    "# load training data from shape file\n",
    "\n",
    "#model_dataset = gdal.Open(model_raster_fname)\n",
    "shape_dataset = ogr.Open(field)\n",
    "shape_layer = shape_dataset.GetLayer()\n",
    "mem_drv = gdal.GetDriverByName('MEM')\n",
    "mem_raster = mem_drv.Create('',img_ds_pre.RasterXSize,img_ds_pre.RasterYSize,1,gdal.GDT_Float32)\n",
    "mem_raster.SetProjection(img_ds_pre.GetProjection())\n",
    "mem_raster.SetGeoTransform(img_ds_pre.GetGeoTransform())\n",
    "mem_band = mem_raster.GetRasterBand(1)\n",
    "mem_band.Fill(0)\n",
    "mem_band.SetNoDataValue(0)\n",
    "\n",
    "att_ = 'ATTRIBUTE='+attribute\n",
    "# http://gdal.org/gdal__alg_8h.html#adfe5e5d287d6c184aab03acbfa567cb1\n",
    "# http://gis.stackexchange.com/questions/31568/gdal-rasterizelayer-doesnt-burn-all-polygons-to-raster\n",
    "err = gdal.RasterizeLayer(mem_raster, [1], shape_layer, None, None, [1],  [att_,\"ALL_TOUCHED=TRUE\"])\n",
    "assert err == gdal.CE_None\n",
    "\n",
    "roi = mem_raster.ReadAsArray()\n"
   ]
  },
  {
   "cell_type": "code",
   "execution_count": 129,
   "metadata": {},
   "outputs": [
    {
     "data": {
      "image/png": "[encoded data removed]",
      "text/plain": [
       "<Figure size 432x288 with 1 Axes>"
      ]
     },
     "metadata": {
      "needs_background": "light"
     },
     "output_type": "display_data"
    }
   ],
   "source": [
    "# Display image and Training data\n",
    "\n",
    "plt.imshow(img[:, :, 0], cmap=plt.cm.Greys_r)\n",
    "roi_positions = np.where(roi > 0)\n",
    "plt.scatter(roi_positions[1], roi_positions[0], marker='x', c='r' )\n",
    "plt.title('first RS band and sample points')\n",
    "\n",
    "\n",
    "plt.show()\n"
   ]
  },
  {
   "cell_type": "code",
   "execution_count": 130,
   "metadata": {},
   "outputs": [
    {
     "name": "stdout",
     "output_type": "stream",
     "text": [
      "We have 25 training samples\n"
     ]
    }
   ],
   "source": [
    "# Number of training pixels:\n",
    "n_samples = (roi > 0).sum()\n",
    "print('We have {n} training samples'.format(n=n_samples))# Subset the image dataset with the training image = X\n",
    "print('{n} training samples'.format(n=n_samples), file=open(results_txt, \"a\"))"
   ]
  },
  {
   "cell_type": "code",
   "execution_count": 131,
   "metadata": {},
   "outputs": [],
   "source": [
    "# Mask the classes on the training dataset = y\n",
    "# These will have n_samples rows\n",
    "X = img3[roi > 0, :]\n",
    "y = roi[roi > 0]"
   ]
  },
  {
   "cell_type": "code",
   "execution_count": 132,
   "metadata": {},
   "outputs": [
    {
     "name": "stdout",
     "output_type": "stream",
     "text": [
      "The shape of our features is: (25, 48)\n",
      "The number of Spectra is: 25\n",
      "The number of bands is: 48\n"
     ]
    },
    {
     "data": {
      "text/html": [
       "<div>\n",
       "<style scoped>\n",
       "    .dataframe tbody tr th:only-of-type {\n",
       "        vertical-align: middle;\n",
       "    }\n",
       "\n",
       "    .dataframe tbody tr th {\n",
       "        vertical-align: top;\n",
       "    }\n",
       "\n",
       "    .dataframe thead th {\n",
       "        text-align: right;\n",
       "    }\n",
       "</style>\n",
       "<table border=\"1\" class=\"dataframe\">\n",
       "  <thead>\n",
       "    <tr style=\"text-align: right;\">\n",
       "      <th></th>\n",
       "      <th>Band_1</th>\n",
       "      <th>Band_2</th>\n",
       "      <th>Band_3</th>\n",
       "      <th>Band_4</th>\n",
       "      <th>Band_5</th>\n",
       "      <th>Band_6</th>\n",
       "      <th>Band_7</th>\n",
       "      <th>Band_8</th>\n",
       "      <th>Band_9</th>\n",
       "      <th>Band_10</th>\n",
       "      <th>...</th>\n",
       "      <th>Band_40</th>\n",
       "      <th>Band_41</th>\n",
       "      <th>Band_42</th>\n",
       "      <th>Band_43</th>\n",
       "      <th>Band_44</th>\n",
       "      <th>Band_45</th>\n",
       "      <th>Band_46</th>\n",
       "      <th>Band_47</th>\n",
       "      <th>Band_48</th>\n",
       "      <th>value</th>\n",
       "    </tr>\n",
       "  </thead>\n",
       "  <tbody>\n",
       "    <tr>\n",
       "      <th>0</th>\n",
       "      <td>113.0</td>\n",
       "      <td>100.0</td>\n",
       "      <td>61.0</td>\n",
       "      <td>0.057574</td>\n",
       "      <td>0.071698</td>\n",
       "      <td>0.148178</td>\n",
       "      <td>0.181828</td>\n",
       "      <td>4.877329</td>\n",
       "      <td>58.409283</td>\n",
       "      <td>0.234739</td>\n",
       "      <td>...</td>\n",
       "      <td>0.084247</td>\n",
       "      <td>0.342129</td>\n",
       "      <td>-0.034420</td>\n",
       "      <td>0.164647</td>\n",
       "      <td>-0.032407</td>\n",
       "      <td>230.0</td>\n",
       "      <td>62.441975</td>\n",
       "      <td>7.984375</td>\n",
       "      <td>280.358673</td>\n",
       "      <td>160.0</td>\n",
       "    </tr>\n",
       "    <tr>\n",
       "      <th>1</th>\n",
       "      <td>102.0</td>\n",
       "      <td>97.0</td>\n",
       "      <td>57.0</td>\n",
       "      <td>0.063913</td>\n",
       "      <td>0.055820</td>\n",
       "      <td>0.175657</td>\n",
       "      <td>0.248511</td>\n",
       "      <td>4.994516</td>\n",
       "      <td>40.052219</td>\n",
       "      <td>0.271267</td>\n",
       "      <td>...</td>\n",
       "      <td>0.092389</td>\n",
       "      <td>0.401675</td>\n",
       "      <td>-0.034006</td>\n",
       "      <td>0.181427</td>\n",
       "      <td>-0.029126</td>\n",
       "      <td>31.0</td>\n",
       "      <td>68.694977</td>\n",
       "      <td>8.296875</td>\n",
       "      <td>290.377960</td>\n",
       "      <td>150.0</td>\n",
       "    </tr>\n",
       "    <tr>\n",
       "      <th>2</th>\n",
       "      <td>112.0</td>\n",
       "      <td>103.0</td>\n",
       "      <td>66.0</td>\n",
       "      <td>0.063320</td>\n",
       "      <td>0.055141</td>\n",
       "      <td>0.161841</td>\n",
       "      <td>0.220738</td>\n",
       "      <td>4.796968</td>\n",
       "      <td>43.553509</td>\n",
       "      <td>0.256472</td>\n",
       "      <td>...</td>\n",
       "      <td>0.099539</td>\n",
       "      <td>0.571790</td>\n",
       "      <td>-0.044388</td>\n",
       "      <td>0.225150</td>\n",
       "      <td>0.010000</td>\n",
       "      <td>27.0</td>\n",
       "      <td>71.937469</td>\n",
       "      <td>8.734375</td>\n",
       "      <td>336.408203</td>\n",
       "      <td>70.0</td>\n",
       "    </tr>\n",
       "    <tr>\n",
       "      <th>3</th>\n",
       "      <td>125.0</td>\n",
       "      <td>112.0</td>\n",
       "      <td>68.0</td>\n",
       "      <td>0.078693</td>\n",
       "      <td>0.099212</td>\n",
       "      <td>0.179207</td>\n",
       "      <td>0.227386</td>\n",
       "      <td>4.541433</td>\n",
       "      <td>31.345501</td>\n",
       "      <td>0.301933</td>\n",
       "      <td>...</td>\n",
       "      <td>0.079499</td>\n",
       "      <td>0.394107</td>\n",
       "      <td>-0.042026</td>\n",
       "      <td>0.183657</td>\n",
       "      <td>-0.044335</td>\n",
       "      <td>36.0</td>\n",
       "      <td>62.056427</td>\n",
       "      <td>7.750000</td>\n",
       "      <td>248.624222</td>\n",
       "      <td>180.0</td>\n",
       "    </tr>\n",
       "    <tr>\n",
       "      <th>4</th>\n",
       "      <td>99.0</td>\n",
       "      <td>104.0</td>\n",
       "      <td>55.0</td>\n",
       "      <td>0.073161</td>\n",
       "      <td>0.056719</td>\n",
       "      <td>0.219834</td>\n",
       "      <td>0.279301</td>\n",
       "      <td>3.861754</td>\n",
       "      <td>32.651554</td>\n",
       "      <td>0.179860</td>\n",
       "      <td>...</td>\n",
       "      <td>0.102016</td>\n",
       "      <td>0.524409</td>\n",
       "      <td>-0.030651</td>\n",
       "      <td>0.183828</td>\n",
       "      <td>-0.022727</td>\n",
       "      <td>33.0</td>\n",
       "      <td>70.703606</td>\n",
       "      <td>6.859375</td>\n",
       "      <td>263.821411</td>\n",
       "      <td>270.0</td>\n",
       "    </tr>\n",
       "  </tbody>\n",
       "</table>\n",
       "<p>5 rows × 49 columns</p>\n",
       "</div>"
      ],
      "text/plain": [
       "   Band_1  Band_2  Band_3    Band_4    Band_5    Band_6    Band_7    Band_8  \\\n",
       "0   113.0   100.0    61.0  0.057574  0.071698  0.148178  0.181828  4.877329   \n",
       "1   102.0    97.0    57.0  0.063913  0.055820  0.175657  0.248511  4.994516   \n",
       "2   112.0   103.0    66.0  0.063320  0.055141  0.161841  0.220738  4.796968   \n",
       "3   125.0   112.0    68.0  0.078693  0.099212  0.179207  0.227386  4.541433   \n",
       "4    99.0   104.0    55.0  0.073161  0.056719  0.219834  0.279301  3.861754   \n",
       "\n",
       "      Band_9   Band_10  ...   Band_40   Band_41   Band_42   Band_43   Band_44  \\\n",
       "0  58.409283  0.234739  ...  0.084247  0.342129 -0.034420  0.164647 -0.032407   \n",
       "1  40.052219  0.271267  ...  0.092389  0.401675 -0.034006  0.181427 -0.029126   \n",
       "2  43.553509  0.256472  ...  0.099539  0.571790 -0.044388  0.225150  0.010000   \n",
       "3  31.345501  0.301933  ...  0.079499  0.394107 -0.042026  0.183657 -0.044335   \n",
       "4  32.651554  0.179860  ...  0.102016  0.524409 -0.030651  0.183828 -0.022727   \n",
       "\n",
       "   Band_45    Band_46   Band_47     Band_48  value  \n",
       "0    230.0  62.441975  7.984375  280.358673  160.0  \n",
       "1     31.0  68.694977  8.296875  290.377960  150.0  \n",
       "2     27.0  71.937469  8.734375  336.408203   70.0  \n",
       "3     36.0  62.056427  7.750000  248.624222  180.0  \n",
       "4     33.0  70.703606  6.859375  263.821411  270.0  \n",
       "\n",
       "[5 rows x 49 columns]"
      ]
     },
     "execution_count": 132,
     "metadata": {},
     "output_type": "execute_result"
    }
   ],
   "source": [
    "features = pd.DataFrame(X)\n",
    "\n",
    "band_names = []\n",
    "for i in range(X.shape[1]):\n",
    "#for i in range(0,2500):\n",
    "    nband = \"Band_\"+ str(i+1)\n",
    "    band_names.append(nband)\n",
    "\n",
    "features.columns = band_names\n",
    "\n",
    "print('The shape of our features is:', features.shape)\n",
    "print('The number of Spectra is:', features.shape[0])\n",
    "print('The number of bands is:', features.shape[1])\n",
    "\n",
    "features['value'] = y\n",
    "\n",
    "features.head()\n"
   ]
  },
  {
   "cell_type": "code",
   "execution_count": 133,
   "metadata": {},
   "outputs": [
    {
     "name": "stdout",
     "output_type": "stream",
     "text": [
      "Training Features Shape:  (25, 48)\n",
      "Training Labels Shape:  (25,)\n"
     ]
    }
   ],
   "source": [
    "# Labels are the values we want to predict\n",
    "labels = np.array(features['value'])\n",
    "\n",
    "# Remove the labels from the features\n",
    "# axis 1 refers to the columns\n",
    "features = features.drop('value', axis = 1)\n",
    "\n",
    "# Saving feature names for later use\n",
    "feature_list = list(features.columns)\n",
    "\n",
    "# Convert to numpy array\n",
    "features = np.array(features)\n",
    "\n",
    "print('Training Features Shape: ', features.shape)\n",
    "print('Training Labels Shape: ', labels.shape)"
   ]
  },
  {
   "cell_type": "code",
   "execution_count": 134,
   "metadata": {},
   "outputs": [
    {
     "name": "stderr",
     "output_type": "stream",
     "text": [
      "[Parallel(n_jobs=-1)]: Using backend LokyBackend with 4 concurrent workers.\n",
      "[Parallel(n_jobs=-1)]: Done  25 out of  25 | elapsed:    1.1s finished\n",
      "[Parallel(n_jobs=-1)]: Using backend LokyBackend with 4 concurrent workers.\n",
      "[Parallel(n_jobs=-1)]: Done  18 out of  25 | elapsed:    0.0s remaining:    0.0s\n",
      "[Parallel(n_jobs=-1)]: Done  25 out of  25 | elapsed:    0.0s finished\n",
      "[Parallel(n_jobs=-1)]: Using backend LokyBackend with 4 concurrent workers.\n",
      "[Parallel(n_jobs=-1)]: Done  18 out of  25 | elapsed:    0.0s remaining:    0.0s\n",
      "[Parallel(n_jobs=-1)]: Done  25 out of  25 | elapsed:    0.0s finished\n",
      "[Parallel(n_jobs=-1)]: Using backend LokyBackend with 4 concurrent workers.\n",
      "[Parallel(n_jobs=-1)]: Done  18 out of  25 | elapsed:    0.0s remaining:    0.0s\n",
      "[Parallel(n_jobs=-1)]: Done  25 out of  25 | elapsed:    0.0s finished\n",
      "[Parallel(n_jobs=-1)]: Using backend LokyBackend with 4 concurrent workers.\n",
      "[Parallel(n_jobs=-1)]: Done  18 out of  25 | elapsed:    0.0s remaining:    0.0s\n",
      "[Parallel(n_jobs=-1)]: Done  25 out of  25 | elapsed:    0.0s finished\n",
      "[Parallel(n_jobs=-1)]: Using backend LokyBackend with 4 concurrent workers.\n",
      "[Parallel(n_jobs=-1)]: Done  18 out of  25 | elapsed:    0.0s remaining:    0.0s\n",
      "[Parallel(n_jobs=-1)]: Done  25 out of  25 | elapsed:    0.0s finished\n",
      "[Parallel(n_jobs=-1)]: Using backend LokyBackend with 4 concurrent workers.\n",
      "[Parallel(n_jobs=-1)]: Done  18 out of  25 | elapsed:    0.0s remaining:    0.0s\n",
      "[Parallel(n_jobs=-1)]: Done  25 out of  25 | elapsed:    0.0s finished\n",
      "[Parallel(n_jobs=-1)]: Using backend LokyBackend with 4 concurrent workers.\n",
      "[Parallel(n_jobs=-1)]: Done  18 out of  25 | elapsed:    0.0s remaining:    0.0s\n",
      "[Parallel(n_jobs=-1)]: Done  25 out of  25 | elapsed:    0.0s finished\n",
      "[Parallel(n_jobs=-1)]: Using backend LokyBackend with 4 concurrent workers.\n",
      "[Parallel(n_jobs=-1)]: Done  18 out of  25 | elapsed:    0.0s remaining:    0.0s\n",
      "[Parallel(n_jobs=-1)]: Done  25 out of  25 | elapsed:    0.0s finished\n",
      "[Parallel(n_jobs=-1)]: Using backend LokyBackend with 4 concurrent workers.\n",
      "[Parallel(n_jobs=-1)]: Done  18 out of  25 | elapsed:    0.0s remaining:    0.0s\n",
      "[Parallel(n_jobs=-1)]: Done  25 out of  25 | elapsed:    0.0s finished\n",
      "[Parallel(n_jobs=-1)]: Using backend LokyBackend with 4 concurrent workers.\n",
      "[Parallel(n_jobs=-1)]: Done  18 out of  25 | elapsed:    0.0s remaining:    0.0s\n",
      "[Parallel(n_jobs=-1)]: Done  25 out of  25 | elapsed:    0.0s finished\n",
      "[Parallel(n_jobs=-1)]: Using backend LokyBackend with 4 concurrent workers.\n",
      "[Parallel(n_jobs=-1)]: Done  18 out of  25 | elapsed:    0.0s remaining:    0.0s\n",
      "[Parallel(n_jobs=-1)]: Done  25 out of  25 | elapsed:    0.0s finished\n",
      "[Parallel(n_jobs=-1)]: Using backend LokyBackend with 4 concurrent workers.\n",
      "[Parallel(n_jobs=-1)]: Done  18 out of  25 | elapsed:    0.0s remaining:    0.0s\n",
      "[Parallel(n_jobs=-1)]: Done  25 out of  25 | elapsed:    0.0s finished\n",
      "[Parallel(n_jobs=-1)]: Using backend LokyBackend with 4 concurrent workers.\n",
      "[Parallel(n_jobs=-1)]: Done  18 out of  25 | elapsed:    0.0s remaining:    0.0s\n",
      "[Parallel(n_jobs=-1)]: Done  25 out of  25 | elapsed:    0.0s finished\n",
      "[Parallel(n_jobs=-1)]: Using backend LokyBackend with 4 concurrent workers.\n",
      "[Parallel(n_jobs=-1)]: Done  18 out of  25 | elapsed:    0.0s remaining:    0.0s\n",
      "[Parallel(n_jobs=-1)]: Done  25 out of  25 | elapsed:    0.0s finished\n",
      "[Parallel(n_jobs=-1)]: Using backend LokyBackend with 4 concurrent workers.\n",
      "[Parallel(n_jobs=-1)]: Done  18 out of  25 | elapsed:    0.0s remaining:    0.0s\n",
      "[Parallel(n_jobs=-1)]: Done  25 out of  25 | elapsed:    0.0s finished\n",
      "[Parallel(n_jobs=-1)]: Using backend LokyBackend with 4 concurrent workers.\n",
      "[Parallel(n_jobs=-1)]: Done  18 out of  25 | elapsed:    0.0s remaining:    0.0s\n",
      "[Parallel(n_jobs=-1)]: Done  25 out of  25 | elapsed:    0.0s finished\n",
      "[Parallel(n_jobs=-1)]: Using backend LokyBackend with 4 concurrent workers.\n",
      "[Parallel(n_jobs=-1)]: Done  18 out of  25 | elapsed:    0.0s remaining:    0.0s\n",
      "[Parallel(n_jobs=-1)]: Done  25 out of  25 | elapsed:    0.0s finished\n",
      "[Parallel(n_jobs=-1)]: Using backend LokyBackend with 4 concurrent workers.\n",
      "[Parallel(n_jobs=-1)]: Done  18 out of  25 | elapsed:    0.0s remaining:    0.0s\n",
      "[Parallel(n_jobs=-1)]: Done  25 out of  25 | elapsed:    0.0s finished\n",
      "[Parallel(n_jobs=-1)]: Using backend LokyBackend with 4 concurrent workers.\n",
      "[Parallel(n_jobs=-1)]: Done  18 out of  25 | elapsed:    0.0s remaining:    0.0s\n",
      "[Parallel(n_jobs=-1)]: Done  25 out of  25 | elapsed:    0.0s finished\n",
      "[Parallel(n_jobs=-1)]: Using backend LokyBackend with 4 concurrent workers.\n",
      "[Parallel(n_jobs=-1)]: Done  18 out of  25 | elapsed:    0.0s remaining:    0.0s\n",
      "[Parallel(n_jobs=-1)]: Done  25 out of  25 | elapsed:    0.0s finished\n",
      "[Parallel(n_jobs=-1)]: Using backend LokyBackend with 4 concurrent workers.\n",
      "[Parallel(n_jobs=-1)]: Done  18 out of  25 | elapsed:    0.0s remaining:    0.0s\n",
      "[Parallel(n_jobs=-1)]: Done  25 out of  25 | elapsed:    0.0s finished\n",
      "[Parallel(n_jobs=-1)]: Using backend LokyBackend with 4 concurrent workers.\n",
      "[Parallel(n_jobs=-1)]: Done  18 out of  25 | elapsed:    0.0s remaining:    0.0s\n",
      "[Parallel(n_jobs=-1)]: Done  25 out of  25 | elapsed:    0.0s finished\n",
      "[Parallel(n_jobs=-1)]: Using backend LokyBackend with 4 concurrent workers.\n",
      "[Parallel(n_jobs=-1)]: Done  18 out of  25 | elapsed:    0.0s remaining:    0.0s\n",
      "[Parallel(n_jobs=-1)]: Done  25 out of  25 | elapsed:    0.0s finished\n",
      "[Parallel(n_jobs=-1)]: Using backend LokyBackend with 4 concurrent workers.\n",
      "[Parallel(n_jobs=-1)]: Done  18 out of  25 | elapsed:    0.0s remaining:    0.0s\n",
      "[Parallel(n_jobs=-1)]: Done  25 out of  25 | elapsed:    0.0s finished\n",
      "[Parallel(n_jobs=-1)]: Using backend LokyBackend with 4 concurrent workers.\n",
      "[Parallel(n_jobs=-1)]: Done  18 out of  25 | elapsed:    0.0s remaining:    0.0s\n",
      "[Parallel(n_jobs=-1)]: Done  25 out of  25 | elapsed:    0.0s finished\n",
      "[Parallel(n_jobs=-1)]: Using backend LokyBackend with 4 concurrent workers.\n",
      "[Parallel(n_jobs=-1)]: Done  18 out of  25 | elapsed:    0.0s remaining:    0.0s\n",
      "[Parallel(n_jobs=-1)]: Done  25 out of  25 | elapsed:    0.0s finished\n",
      "[Parallel(n_jobs=-1)]: Using backend LokyBackend with 4 concurrent workers.\n",
      "[Parallel(n_jobs=-1)]: Done  18 out of  25 | elapsed:    0.0s remaining:    0.0s\n",
      "[Parallel(n_jobs=-1)]: Done  25 out of  25 | elapsed:    0.0s finished\n",
      "[Parallel(n_jobs=-1)]: Using backend LokyBackend with 4 concurrent workers.\n",
      "[Parallel(n_jobs=-1)]: Done  18 out of  25 | elapsed:    0.0s remaining:    0.0s\n",
      "[Parallel(n_jobs=-1)]: Done  25 out of  25 | elapsed:    0.0s finished\n",
      "[Parallel(n_jobs=-1)]: Using backend LokyBackend with 4 concurrent workers.\n",
      "[Parallel(n_jobs=-1)]: Done  18 out of  25 | elapsed:    0.0s remaining:    0.0s\n",
      "[Parallel(n_jobs=-1)]: Done  25 out of  25 | elapsed:    0.0s finished\n",
      "[Parallel(n_jobs=-1)]: Using backend LokyBackend with 4 concurrent workers.\n",
      "[Parallel(n_jobs=-1)]: Done  18 out of  25 | elapsed:    0.0s remaining:    0.0s\n",
      "[Parallel(n_jobs=-1)]: Done  25 out of  25 | elapsed:    0.0s finished\n",
      "[Parallel(n_jobs=-1)]: Using backend LokyBackend with 4 concurrent workers.\n",
      "[Parallel(n_jobs=-1)]: Done  18 out of  25 | elapsed:    0.0s remaining:    0.0s\n",
      "[Parallel(n_jobs=-1)]: Done  25 out of  25 | elapsed:    0.0s finished\n",
      "[Parallel(n_jobs=-1)]: Using backend LokyBackend with 4 concurrent workers.\n",
      "[Parallel(n_jobs=-1)]: Done  18 out of  25 | elapsed:    0.0s remaining:    0.0s\n",
      "[Parallel(n_jobs=-1)]: Done  25 out of  25 | elapsed:    0.0s finished\n",
      "[Parallel(n_jobs=-1)]: Using backend LokyBackend with 4 concurrent workers.\n",
      "[Parallel(n_jobs=-1)]: Done  18 out of  25 | elapsed:    0.0s remaining:    0.0s\n",
      "[Parallel(n_jobs=-1)]: Done  25 out of  25 | elapsed:    0.0s finished\n",
      "[Parallel(n_jobs=-1)]: Using backend LokyBackend with 4 concurrent workers.\n",
      "[Parallel(n_jobs=-1)]: Done  18 out of  25 | elapsed:    0.0s remaining:    0.0s\n",
      "[Parallel(n_jobs=-1)]: Done  25 out of  25 | elapsed:    0.0s finished\n",
      "[Parallel(n_jobs=-1)]: Using backend LokyBackend with 4 concurrent workers.\n",
      "[Parallel(n_jobs=-1)]: Done  18 out of  25 | elapsed:    0.0s remaining:    0.0s\n",
      "[Parallel(n_jobs=-1)]: Done  25 out of  25 | elapsed:    0.0s finished\n",
      "[Parallel(n_jobs=-1)]: Using backend LokyBackend with 4 concurrent workers.\n",
      "[Parallel(n_jobs=-1)]: Done  18 out of  25 | elapsed:    0.0s remaining:    0.0s\n",
      "[Parallel(n_jobs=-1)]: Done  25 out of  25 | elapsed:    0.0s finished\n",
      "[Parallel(n_jobs=-1)]: Using backend LokyBackend with 4 concurrent workers.\n",
      "[Parallel(n_jobs=-1)]: Done  18 out of  25 | elapsed:    0.0s remaining:    0.0s\n",
      "[Parallel(n_jobs=-1)]: Done  25 out of  25 | elapsed:    0.0s finished\n",
      "[Parallel(n_jobs=-1)]: Using backend LokyBackend with 4 concurrent workers.\n",
      "[Parallel(n_jobs=-1)]: Done  18 out of  25 | elapsed:    0.0s remaining:    0.0s\n",
      "[Parallel(n_jobs=-1)]: Done  25 out of  25 | elapsed:    0.0s finished\n",
      "[Parallel(n_jobs=-1)]: Using backend LokyBackend with 4 concurrent workers.\n",
      "[Parallel(n_jobs=-1)]: Done  18 out of  25 | elapsed:    0.0s remaining:    0.0s\n",
      "[Parallel(n_jobs=-1)]: Done  25 out of  25 | elapsed:    0.0s finished\n",
      "[Parallel(n_jobs=-1)]: Using backend LokyBackend with 4 concurrent workers.\n",
      "[Parallel(n_jobs=-1)]: Done  18 out of  25 | elapsed:    0.0s remaining:    0.0s\n",
      "[Parallel(n_jobs=-1)]: Done  25 out of  25 | elapsed:    0.0s finished\n",
      "[Parallel(n_jobs=-1)]: Using backend LokyBackend with 4 concurrent workers.\n",
      "[Parallel(n_jobs=-1)]: Done  18 out of  25 | elapsed:    0.0s remaining:    0.0s\n",
      "[Parallel(n_jobs=-1)]: Done  25 out of  25 | elapsed:    0.0s finished\n",
      "[Parallel(n_jobs=-1)]: Using backend LokyBackend with 4 concurrent workers.\n",
      "[Parallel(n_jobs=-1)]: Done  18 out of  25 | elapsed:    0.0s remaining:    0.0s\n",
      "[Parallel(n_jobs=-1)]: Done  25 out of  25 | elapsed:    0.0s finished\n",
      "[Parallel(n_jobs=-1)]: Using backend LokyBackend with 4 concurrent workers.\n",
      "[Parallel(n_jobs=-1)]: Done  18 out of  25 | elapsed:    0.0s remaining:    0.0s\n",
      "[Parallel(n_jobs=-1)]: Done  25 out of  25 | elapsed:    0.0s finished\n",
      "[Parallel(n_jobs=-1)]: Using backend LokyBackend with 4 concurrent workers.\n",
      "[Parallel(n_jobs=-1)]: Done  18 out of  25 | elapsed:    0.0s remaining:    0.0s\n",
      "[Parallel(n_jobs=-1)]: Done  25 out of  25 | elapsed:    0.0s finished\n",
      "[Parallel(n_jobs=-1)]: Using backend LokyBackend with 4 concurrent workers.\n",
      "[Parallel(n_jobs=-1)]: Done  18 out of  25 | elapsed:    0.0s remaining:    0.0s\n",
      "[Parallel(n_jobs=-1)]: Done  25 out of  25 | elapsed:    0.0s finished\n",
      "[Parallel(n_jobs=-1)]: Using backend LokyBackend with 4 concurrent workers.\n",
      "[Parallel(n_jobs=-1)]: Done  18 out of  25 | elapsed:    0.0s remaining:    0.0s\n",
      "[Parallel(n_jobs=-1)]: Done  25 out of  25 | elapsed:    0.0s finished\n"
     ]
    },
    {
     "name": "stdout",
     "output_type": "stream",
     "text": [
      "Suggested number of components:  5\n"
     ]
    },
    {
     "data": {
      "image/png": "[encoded data removed]",
      "text/plain": [
       "<Figure size 432x288 with 1 Axes>"
      ]
     },
     "metadata": {},
     "output_type": "display_data"
    }
   ],
   "source": [
    "mse = []\n",
    "component = np.arange(1, features.shape[1])\n",
    "\n",
    "for i in component:\n",
    "    pls = PLSRegression(n_components=i)\n",
    "\n",
    "    # Cross-validation\n",
    "    y_cv = cross_val_predict(pls, X, y, cv=X.shape[0], n_jobs =-1, verbose=2)\n",
    "\n",
    "    mse.append(mean_squared_error(y, y_cv))\n",
    "\n",
    "   # comp = 100*(i+1)/40\n",
    "\n",
    "\n",
    "    # Calculate and print the position of minimum in MSE\n",
    "msemin = np.argmin(mse)\n",
    "suggested_comp = msemin+1\n",
    "print(\"Suggested number of components: \", suggested_comp)\n",
    "print(\"Suggested number of components: {}\".format(suggested_comp), file=open(results_txt, \"a\"))\n",
    "\n",
    "with plt.style.context(('ggplot')):\n",
    "    sns.set(rc=settings_sns, font_scale=1.5)\n",
    "    plt.plot(component, np.array(mse), '-v', color = 'blue', mfc='blue')\n",
    "    plt.plot(component[msemin], np.array(mse)[msemin], 'P', ms=10, mfc='red')\n",
    "    plt.xlabel('Anzahl von PLS-Komponenten')\n",
    "    plt.ylabel('MSE')\n",
    "    plt.title('PLSR MSE vs. Komponenten')\n",
    "    plt.xlim(left=-1)\n",
    "    \n",
    "    plt.savefig(comp_plot,bbox_inches='tight')\n",
    "\n",
    "plt.show()"
   ]
  },
  {
   "cell_type": "code",
   "execution_count": 135,
   "metadata": {},
   "outputs": [
    {
     "name": "stdout",
     "output_type": "stream",
     "text": [
      "R2 calib: 0.938\n",
      "R2 LOOCV: 0.582\n",
      "MSE calib: 1675.213\n",
      "MSE LOOCV: 11320.993\n"
     ]
    },
    {
     "name": "stderr",
     "output_type": "stream",
     "text": [
      "[Parallel(n_jobs=-1)]: Using backend LokyBackend with 4 concurrent workers.\n",
      "[Parallel(n_jobs=-1)]: Done  18 out of  25 | elapsed:    0.0s remaining:    0.0s\n",
      "[Parallel(n_jobs=-1)]: Done  25 out of  25 | elapsed:    0.0s finished\n"
     ]
    }
   ],
   "source": [
    "# Define PLS object with optimal number of components\n",
    "pls_opt = PLSRegression(n_components=msemin+1)\n",
    "\n",
    "# Fir to the entire dataset\n",
    "pls_opt.fit(X, y)\n",
    "y_c = pls_opt.predict(X)\n",
    "\n",
    "# Cross-validation\n",
    "y_cv = cross_val_predict(pls_opt, X, y, cv=X.shape[0], n_jobs=-1, verbose=2)\n",
    "\n",
    "# Calculate scores for calibration and cross-validation\n",
    "score_c = r2_score(y, y_c)\n",
    "score_cv = r2_score(y, y_cv)\n",
    "\n",
    "# Calculate mean squared error for calibration and cross validation\n",
    "mse_c = mean_squared_error(y, y_c)\n",
    "mse_cv = mean_squared_error(y, y_cv)\n",
    "\n",
    "\n",
    "print('R2 calib: %5.3f'  % score_c)\n",
    "print('R2 LOOCV: %5.3f'  % score_cv)\n",
    "print('MSE calib: %5.3f' % mse_c)\n",
    "print('MSE LOOCV: %5.3f' % mse_cv)\n",
    "\n",
    "print(\"-----------------------\", file=open(results_txt, \"a\"))\n",
    "print('R2 calib: %5.3f'  % score_c, file=open(results_txt, \"a\"))\n",
    "print('R2 LOOCV: %5.3f'  % score_cv, file=open(results_txt, \"a\"))\n",
    "print('MSE calib: %5.3f' % mse_c, file=open(results_txt, \"a\"))\n",
    "print('MSE LOOCV: %5.3f' % mse_cv, file=open(results_txt, \"a\"))\n"
   ]
  },
  {
   "cell_type": "code",
   "execution_count": 136,
   "metadata": {},
   "outputs": [
    {
     "name": "stdout",
     "output_type": "stream",
     "text": [
      "Band 1: 0.9983500071247219\n",
      "Band 2: 0.5243020769179604\n",
      "Band 3: 0.7421205421756142\n",
      "Band 4: 0.6565894519077377\n",
      "Band 5: 0.8734502316528532\n",
      "Band 6: 0.9617244089971494\n",
      "Band 7: 1.0886417072022074\n",
      "Band 8: 1.099606459412342\n",
      "Band 9: 0.7199569290767736\n",
      "Band 10: 0.7964132908687928\n",
      "Band 11: 1.2250507189180677\n",
      "Band 12: 0.7676489848287238\n",
      "Band 13: 0.9318295376419428\n",
      "Band 14: 1.4302026329409567\n",
      "Band 15: 1.0748286068044155\n",
      "Band 16: 0.9480014962872263\n",
      "Band 17: 1.04753953707011\n",
      "Band 18: 0.8636955428654921\n",
      "Band 19: 1.0839801285857602\n",
      "Band 20: 1.2261212241633341\n",
      "Band 21: 0.5239399804961855\n",
      "Band 22: 0.8893542759971139\n",
      "Band 23: 0.6812261249443624\n",
      "Band 24: 0.7901994709987662\n",
      "Band 25: 0.9603184361905531\n",
      "Band 26: 0.9473360022014042\n",
      "Band 27: 0.8422459340638921\n",
      "Band 28: 1.073500886988083\n",
      "Band 29: 0.9752434207485584\n",
      "Band 30: 1.2460234629400764\n",
      "Band 31: 1.2630457762626488\n",
      "Band 32: 1.1981304524605583\n",
      "Band 33: 0.9093166835545384\n",
      "Band 34: 1.016623229490341\n",
      "Band 35: 1.4127448173510067\n",
      "Band 36: 0.938195697129152\n",
      "Band 37: 1.2166408411391665\n",
      "Band 38: 1.2446707058931417\n",
      "Band 39: 1.3913497773403627\n",
      "Band 40: 1.161604241611102\n",
      "Band 41: 1.1085327000565341\n",
      "Band 42: 0.9854633536229234\n",
      "Band 43: 1.1964947054334045\n",
      "Band 44: 0.8113070908094585\n",
      "Band 45: 0.4475714624329247\n",
      "Band 46: 0.42833416702506266\n",
      "Band 47: 1.0546263763311028\n",
      "Band 48: 0.8518377824883062\n"
     ]
    }
   ],
   "source": [
    "print(\"-----------------------\", file=open(results_txt, \"a\"))\n",
    "print(\"band importance\", file=open(results_txt, \"a\"))\n",
    "\n",
    "# function for variable importance\n",
    "def vip(model):\n",
    "    t = model.x_scores_\n",
    "    w = model.x_weights_\n",
    "    q = model.y_loadings_\n",
    "    p, h = w.shape\n",
    "    vips = np.zeros((p,))\n",
    "    s = np.diag(t.T @ t @ q.T @ q).reshape(h, -1)\n",
    "    total_s = np.sum(s)\n",
    "    for i in range(p):\n",
    "        weight = np.array([ (w[i,j] / np.linalg.norm(w[:,j]))**2 for j in range(h) ])\n",
    "        vips[i] = np.sqrt(p*(s.T @ weight)/total_s)\n",
    "    return vips\n",
    "\n",
    "importance = vip(pls_opt)\n",
    "\n",
    "imp = {}\n",
    "for i in range(features.shape[1]):\n",
    "    print('Band {}: {}'.format(i+1, importance[i]))\n",
    "    print('Band {}: {}'.format(i+1, importance[i]), file=open(results_txt, \"a\"))\n",
    "    imp['Band{}'.format(i+1)] = importance[i]\n",
    "\n",
    "\n"
   ]
  },
  {
   "cell_type": "code",
   "execution_count": 137,
   "metadata": {},
   "outputs": [
    {
     "name": "stdout",
     "output_type": "stream",
     "text": [
      "Band14: 1.4302026329409567\n",
      "Band35: 1.4127448173510067\n",
      "Band39: 1.3913497773403627\n",
      "Band31: 1.2630457762626488\n",
      "Band30: 1.2460234629400764\n",
      "Band38: 1.2446707058931417\n",
      "Band20: 1.2261212241633341\n",
      "Band11: 1.2250507189180677\n",
      "Band37: 1.2166408411391665\n",
      "Band32: 1.1981304524605583\n",
      "Band43: 1.1964947054334045\n",
      "Band40: 1.161604241611102\n",
      "Band41: 1.1085327000565341\n",
      "Band8: 1.099606459412342\n",
      "Band7: 1.0886417072022074\n",
      "Band19: 1.0839801285857602\n",
      "Band15: 1.0748286068044155\n",
      "Band28: 1.073500886988083\n",
      "Band47: 1.0546263763311028\n",
      "Band17: 1.04753953707011\n",
      "Band34: 1.016623229490341\n",
      "Band1: 0.9983500071247219\n",
      "Band42: 0.9854633536229234\n",
      "Band29: 0.9752434207485584\n",
      "Band6: 0.9617244089971494\n",
      "Band25: 0.9603184361905531\n",
      "Band16: 0.9480014962872263\n",
      "Band26: 0.9473360022014042\n",
      "Band36: 0.938195697129152\n",
      "Band13: 0.9318295376419428\n",
      "Band33: 0.9093166835545384\n",
      "Band22: 0.8893542759971139\n",
      "Band5: 0.8734502316528532\n",
      "Band18: 0.8636955428654921\n",
      "Band48: 0.8518377824883062\n",
      "Band27: 0.8422459340638921\n",
      "Band44: 0.8113070908094585\n",
      "Band10: 0.7964132908687928\n",
      "Band24: 0.7901994709987662\n",
      "Band12: 0.7676489848287238\n",
      "Band3: 0.7421205421756142\n",
      "Band9: 0.7199569290767736\n",
      "Band23: 0.6812261249443624\n",
      "Band4: 0.6565894519077377\n",
      "Band2: 0.5243020769179604\n",
      "Band21: 0.5239399804961855\n",
      "Band45: 0.4475714624329247\n",
      "Band46: 0.42833416702506266\n"
     ]
    }
   ],
   "source": [
    "print(\"-----------------------\", file=open(results_txt, \"a\"))\n",
    "print(\"sorted band importance\", file=open(results_txt, \"a\"))\n",
    "sorted_imp = dict(sorted(imp.items(), key=itemgetter(1), reverse=True))\n",
    "\n",
    "for i in sorted_imp:\n",
    "    print('{}: {}'.format(i, sorted_imp[i]))\n",
    "\n",
    "for i in sorted_imp:\n",
    "    print('{}: {}'.format(i, sorted_imp[i]), file=open(results_txt, \"a\"))\n",
    "print(\"-----------------------\", file=open(results_txt, \"a\"))"
   ]
  },
  {
   "cell_type": "code",
   "execution_count": 138,
   "metadata": {},
   "outputs": [
    {
     "data": {
      "image/png": "[encoded data removed]",
      "text/plain": [
       "<Figure size 648x360 with 1 Axes>"
      ]
     },
     "metadata": {},
     "output_type": "display_data"
    }
   ],
   "source": [
    "# quality of calibration model\n",
    "\n",
    "# Fit a line to the CV vs response\n",
    "z = np.polyfit(y, y_c, 1)\n",
    "with plt.style.context(('ggplot')):\n",
    "    sns.set(rc=settings_sns, font_scale=1.5)\n",
    "    fig, ax = plt.subplots(figsize=(9, 5))\n",
    "    ax.scatter(y_c, y, c='red', edgecolors='k')\n",
    "    #Plot the best fit line\n",
    "    ax.plot(np.polyval(z,y), y, c='blue', linewidth=1)\n",
    "    #Plot the ideal 1:1 line\n",
    "    ax.plot(y, y, color='green', linewidth=1)\n",
    "    plt.title(attribute + ' (calibrated model)')\n",
    "    plt.xlabel('predicted')\n",
    "    plt.ylabel('observed')\n",
    "    plt.legend(['regression \\nr$^{2}$ (CV): '+str(round(score_c,2)),'1:1 line','samples'])\n",
    "\n",
    "    #plt.savefig(validation_plot,bbox_inches='tight')\n",
    "\n",
    "    plt.show()"
   ]
  },
  {
   "cell_type": "code",
   "execution_count": 139,
   "metadata": {},
   "outputs": [
    {
     "data": {
      "image/png": "[encoded data removed]",
      "text/plain": [
       "<Figure size 648x360 with 1 Axes>"
      ]
     },
     "metadata": {},
     "output_type": "display_data"
    }
   ],
   "source": [
    "# quality of LOOCV validated model\n",
    "\n",
    "# Fit a line to the CV vs response\n",
    "z = np.polyfit(y, y_cv, 1)\n",
    "with plt.style.context(('ggplot')):\n",
    "    sns.set(rc=settings_sns, font_scale=1.5)\n",
    "    fig, ax = plt.subplots(figsize=(9, 5))\n",
    "    ax.scatter(y_cv, y, c='red', edgecolors='k')\n",
    "    #Plot the best fit line\n",
    "    ax.plot(np.polyval(z,y), y, c='blue', linewidth=1)\n",
    "    #Plot the ideal 1:1 line\n",
    "    ax.plot(y, y, color='green', linewidth=1)\n",
    "    plt.title(attribute + ' (validated model)')\n",
    "    plt.xlabel('predicted')\n",
    "    plt.ylabel('observed')\n",
    "    plt.legend(['regression \\nr$^{2}$ (CV): '+str(round(score_cv,2)),'1:1 line','samples'])\n",
    "\n",
    "    #plt.savefig(validation_plot,bbox_inches='tight')\n",
    "\n",
    "    plt.show()"
   ]
  },
  {
   "cell_type": "code",
   "execution_count": 140,
   "metadata": {},
   "outputs": [
    {
     "name": "stdout",
     "output_type": "stream",
     "text": [
      "-------------\n",
      "n of the test data: 25\n",
      "Mean of the variable: 273.20\n",
      "Standard deviation of the variable: 164.63\n",
      "-------------\n",
      "Mean Absolute Error: 174.36\n",
      "Mean squared error: 11320.99\n",
      "RMSE: 106.40\n",
      "RPD: 1.55 | How often does RMSE of Prediction fit in the Standard Deviation of the samples\n",
      "mean absolute percentage error (MAPE): 78.54 %\n",
      "accuracy (100 % - mape): 21.46 %\n",
      "-------------\n",
      "Coefficient of determination r²: 0.58\n"
     ]
    }
   ],
   "source": [
    "# Calculate the absolute errors\n",
    "errors = abs(y_cv-y)\n",
    "# Print out the mean absolute error (mae)\n",
    "\n",
    "# Print out the mean absolute error (mae)\n",
    "\n",
    "\n",
    "print('-------------')\n",
    "print('n of the test data: {}'.format(len(labels)))\n",
    "print('Mean of the variable: {:.2f}'.format(np.mean(labels)))\n",
    "print('Standard deviation of the variable: {:.2f}'.format(np.std(labels)))\n",
    "print('-------------')\n",
    "print('Mean Absolute Error: {:.2f}'.format(np.mean(errors)))\n",
    "\n",
    "print('-------------', file=open(results_txt, \"a\"))\n",
    "print('n of the test data: {}'.format(len(labels)), file=open(results_txt, \"a\"))\n",
    "print('Mean of the variable: {:.2f}'.format(np.mean(labels)), file=open(results_txt, \"a\"))\n",
    "print('Standard deviation of the variable: {:.2f}'.format(np.std(labels)), file=open(results_txt, \"a\"))\n",
    "print('-------------', file=open(results_txt, \"a\"))\n",
    "print('Mean Absolute Error: {:.2f}'.format(np.mean(errors)), file=open(results_txt, \"a\"))\n",
    "\n",
    "mse = mean_squared_error(y, y_cv)\n",
    "print('Mean squared error: {:.2f}'.format(mse))\n",
    "print('RMSE: {:.2f}'.format(np.sqrt(mse)))\n",
    "print('RPD: {:.2f} | How often does RMSE of Prediction fit in the Standard Deviation of the samples'.format(np.std(labels)/np.sqrt(mse)))\n",
    "\n",
    "print('Mean squared error: {:.2f}'.format(mse), file=open(results_txt, \"a\"))\n",
    "print('RMSE: {:.2f}'.format(np.sqrt(mse)), file=open(results_txt, \"a\"))\n",
    "print('RPD: {:.2f}| How often does RMSE of Prediction fit in the Standard Deviation of the samples'.format(np.std(labels)/np.sqrt(mse)), file=open(results_txt, \"a\"))\n",
    "\n",
    "\n",
    "'''\n",
    "To put our predictions in perspective, we can calculate an accuracy using\n",
    "the mean average percentage error subtracted from 100 %.\n",
    "'''\n",
    "# Calculate mean absolute percentage error (MAPE)\n",
    "mape = 100 * (errors / labels)\n",
    "# Calculate and display accuracy\n",
    "accuracy = 100 - np.mean(mape)\n",
    "print('mean absolute percentage error (MAPE): {:.2f} %'.format(np.mean(mape)))\n",
    "print('accuracy (100 % - mape): {:.2f} %'.format(accuracy))\n",
    "\n",
    "\n",
    "print('-------------')\n",
    "# The coefficient of determination: 1 is perfect prediction\n",
    "print('Coefficient of determination r²: {:.2f}'.format(r2_score(y, y_cv)))\n",
    "\n",
    "\n",
    "print('mean absolute percentage error (MAPE): {:.2f} %'.format(np.mean(mape)), file=open(results_txt, \"a\"))\n",
    "print('accuracy (100 % - mape): {:.2f} %'.format(accuracy), file=open(results_txt, \"a\"))\n",
    "\n",
    "\n",
    "print('-------------', file=open(results_txt, \"a\"))\n",
    "# The coefficient of determination: 1 is perfect prediction\n",
    "print('Coefficient of determination r²: {:.2f}'.format(r2_score(y, y_cv)), file=open(results_txt, \"a\"))\n"
   ]
  },
  {
   "cell_type": "code",
   "execution_count": null,
   "metadata": {},
   "outputs": [],
   "source": []
  },
  {
   "cell_type": "code",
   "execution_count": null,
   "metadata": {},
   "outputs": [],
   "source": []
  },
  {
   "cell_type": "code",
   "execution_count": null,
   "metadata": {},
   "outputs": [],
   "source": []
  },
  {
   "cell_type": "code",
   "execution_count": null,
   "metadata": {},
   "outputs": [],
   "source": []
  },
  {
   "cell_type": "code",
   "execution_count": null,
   "metadata": {},
   "outputs": [],
   "source": []
  },
  {
   "cell_type": "code",
   "execution_count": null,
   "metadata": {},
   "outputs": [],
   "source": []
  },
  {
   "cell_type": "code",
   "execution_count": null,
   "metadata": {},
   "outputs": [],
   "source": []
  },
  {
   "cell_type": "code",
   "execution_count": null,
   "metadata": {},
   "outputs": [],
   "source": []
  },
  {
   "cell_type": "code",
   "execution_count": 21,
   "metadata": {},
   "outputs": [
    {
     "name": "stdout",
     "output_type": "stream",
     "text": [
      "Reshaped from (916, 165, 24) to (151140, 24)\n"
     ]
    }
   ],
   "source": [
    "# Predicting the rest of the image\n",
    "\n",
    "# Take our full image and reshape into long 2d array (nrow * ncol, nband) for classification\n",
    "new_shape = (img.shape[0] * img.shape[1], img.shape[2])\n",
    "img_as_array = img[:, :, :].reshape(new_shape)\n",
    "\n",
    "print('Reshaped from {o} to {n}'.format(o=img.shape, n=img_as_array.shape))\n",
    "\n",
    "img_as_array = np.nan_to_num(img_as_array)"
   ]
  },
  {
   "cell_type": "code",
   "execution_count": 22,
   "metadata": {},
   "outputs": [],
   "source": [
    "prediction_ = pls_opt.predict(img_as_array)"
   ]
  },
  {
   "cell_type": "code",
   "execution_count": 23,
   "metadata": {},
   "outputs": [
    {
     "name": "stdout",
     "output_type": "stream",
     "text": [
      "Reshaped back to (916, 165)\n"
     ]
    }
   ],
   "source": [
    "prediction = prediction_.reshape(img[:, :, 0].shape)\n",
    "print('Reshaped back to {}'.format(prediction.shape))"
   ]
  },
  {
   "cell_type": "code",
   "execution_count": 24,
   "metadata": {},
   "outputs": [
    {
     "data": {
      "text/plain": [
       "<matplotlib.image.AxesImage at 0x243e19629a0>"
      ]
     },
     "execution_count": 24,
     "metadata": {},
     "output_type": "execute_result"
    },
    {
     "data": {
      "image/png": "[encoded data removed]",
      "text/plain": [
       "<Figure size 432x288 with 1 Axes>"
      ]
     },
     "metadata": {
      "needs_background": "light"
     },
     "output_type": "display_data"
    }
   ],
   "source": [
    "# generate mask image from red band\n",
    "mask = np.copy(img[:,:,0])\n",
    "mask[mask > 0.0] = 1.0 # all actual pixels have a value of 1.0\n",
    "\n",
    "# plot mask\n",
    "\n",
    "plt.imshow(mask)"
   ]
  },
  {
   "cell_type": "code",
   "execution_count": 25,
   "metadata": {},
   "outputs": [
    {
     "data": {
      "image/png": "[encoded data removed]",
      "text/plain": [
       "<Figure size 432x288 with 2 Axes>"
      ]
     },
     "metadata": {
      "needs_background": "light"
     },
     "output_type": "display_data"
    }
   ],
   "source": [
    "# mask classification an plot\n",
    "\n",
    "prediction_ = prediction*mask\n",
    "\n",
    "plt.subplot(121)\n",
    "plt.imshow(prediction, cmap=plt.cm.Spectral)\n",
    "plt.title('classification unmasked')\n",
    "\n",
    "plt.subplot(122)\n",
    "plt.imshow(prediction_, cmap=plt.cm.Spectral)\n",
    "plt.title('classification masked')\n",
    "\n",
    "plt.show()"
   ]
  },
  {
   "cell_type": "code",
   "execution_count": 26,
   "metadata": {},
   "outputs": [
    {
     "name": "stdout",
     "output_type": "stream",
     "text": [
      "Image saved to: N:/Projekt_Wetscapes/Bearbeitung/2020_11_24_Lichtehagen/results/plsr/2020_LH_pre_FM.tif\n"
     ]
    }
   ],
   "source": [
    "# Save regression\n",
    "\n",
    "cols = img.shape[1]\n",
    "rows = img.shape[0]\n",
    "\n",
    "driver = gdal.GetDriverByName(\"gtiff\")\n",
    "outdata = driver.Create(prediction_map, cols, rows, 1, gdal.GDT_Float32)\n",
    "outdata.SetGeoTransform(img_ds.GetGeoTransform())##sets same geotransform as input\n",
    "outdata.SetProjection(img_ds.GetProjection())##sets same projection as input\n",
    "outdata.GetRasterBand(1).WriteArray(prediction_)\n",
    "outdata.FlushCache() ##saves to disk!!\n",
    "print('Image saved to: {}'.format(prediction_map))"
   ]
  },
  {
   "cell_type": "code",
   "execution_count": 27,
   "metadata": {},
   "outputs": [
    {
     "data": {
      "image/png": "[encoded data removed]",
      "text/plain": [
       "<Figure size 432x288 with 3 Axes>"
      ]
     },
     "metadata": {
      "needs_background": "light"
     },
     "output_type": "display_data"
    }
   ],
   "source": [
    "# Display images\n",
    "\n",
    "\n",
    "plt.subplot(121)\n",
    "plt.imshow(img[:, :, 0], cmap=plt.cm.Greys_r)\n",
    "plt.title('RS image - first band')\n",
    "\n",
    "plt.subplot(122)\n",
    "plt.imshow(prediction_, cmap=plt.cm.Spectral, vmin= y.min(), vmax=y.max())\n",
    "plt.title('Prediction of ' + attribute)\n",
    "plt.colorbar()\n",
    "\n",
    "plt.show()"
   ]
  },
  {
   "cell_type": "code",
   "execution_count": null,
   "metadata": {},
   "outputs": [],
   "source": []
  }
 ],
 "metadata": {
  "kernelspec": {
   "display_name": "Python 3",
   "language": "python",
   "name": "python3"
  },
  "language_info": {
   "codemirror_mode": {
    "name": "ipython",
    "version": 3
   },
   "file_extension": ".py",
   "mimetype": "text/x-python",
   "name": "python",
   "nbconvert_exporter": "python",
   "pygments_lexer": "ipython3",
   "version": "3.8.5"
  }
 },
 "nbformat": 4,
 "nbformat_minor": 4
}
